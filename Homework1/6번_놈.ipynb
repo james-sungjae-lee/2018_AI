{
 "cells": [
  {
   "cell_type": "markdown",
   "metadata": {},
   "source": [
    "## Artificial Intelligence Assignment 1\n",
    "## 6번 : 놈\n",
    "## 20132651 Sungjae Lee"
   ]
  },
  {
   "cell_type": "code",
   "execution_count": 1,
   "metadata": {},
   "outputs": [],
   "source": [
    "import numpy as np\n",
    "from numpy.linalg import norm"
   ]
  },
  {
   "cell_type": "code",
   "execution_count": 2,
   "metadata": {},
   "outputs": [
    {
     "name": "stdout",
     "output_type": "stream",
     "text": [
      "10.5\n",
      "5.632938842203065\n",
      "4.716120891176797\n",
      "4.0\n"
     ]
    }
   ],
   "source": [
    "# x의 1차, 2차, 3차 놈과 최대 놈 계산\n",
    "x = np.array([3, -4, -1.2, 0, 2.3])\n",
    "\n",
    "print(norm(x, 1))\n",
    "print(norm(x, 2))\n",
    "print(norm(x, 3))\n",
    "print(norm(x, np.inf))"
   ]
  },
  {
   "cell_type": "code",
   "execution_count": 3,
   "metadata": {},
   "outputs": [
    {
     "name": "stdout",
     "output_type": "stream",
     "text": [
      "6.928203230275509\n"
     ]
    }
   ],
   "source": [
    "# x2의 프로베니우스 놈 계산\n",
    "x2 = np.matrix('2 1; 1 5; 4 1')\n",
    "\n",
    "print(norm(x2))"
   ]
  }
 ],
 "metadata": {
  "kernelspec": {
   "display_name": "Python 3",
   "language": "python",
   "name": "python3"
  },
  "language_info": {
   "codemirror_mode": {
    "name": "ipython",
    "version": 3
   },
   "file_extension": ".py",
   "mimetype": "text/x-python",
   "name": "python",
   "nbconvert_exporter": "python",
   "pygments_lexer": "ipython3",
   "version": "3.6.5"
  }
 },
 "nbformat": 4,
 "nbformat_minor": 2
}
