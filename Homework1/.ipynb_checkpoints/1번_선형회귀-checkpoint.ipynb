{
 "cells": [
  {
   "cell_type": "markdown",
   "metadata": {},
   "source": [
    "## Artificial Intelligence Assignment 1\n",
    "## 1번 : 선형회귀\n",
    "## 20132651 Sungjae Lee"
   ]
  },
  {
   "cell_type": "markdown",
   "metadata": {},
   "source": [
    "## 0. 데이터셋의 생성"
   ]
  },
  {
   "cell_type": "code",
   "execution_count": 1,
   "metadata": {},
   "outputs": [],
   "source": [
    "import numpy as np\n",
    "%matplotlib inline\n",
    "import matplotlib\n",
    "import matplotlib.pyplot as plt\n",
    "# 선형회귀를 위한 numpy, 시각화를 위한 matplotlib 패키지를 가져옵니다"
   ]
  },
  {
   "cell_type": "code",
   "execution_count": 2,
   "metadata": {},
   "outputs": [],
   "source": [
    "X = 2*np.random.rand(100, 1)\n",
    "y = 4 + 3*X + np.random.randn(100, 1)\n",
    "# 특징 X 와 목표값 y 를 선형성이 있는 난수 집합으로 생성합니다"
   ]
  },
  {
   "cell_type": "code",
   "execution_count": 3,
   "metadata": {
    "scrolled": true
   },
   "outputs": [
    {
     "data": {
      "image/png": "[encoded data removed]",
      "text/plain": [
       "<Figure size 432x288 with 1 Axes>"
      ]
     },
     "metadata": {},
     "output_type": "display_data"
    }
   ],
   "source": [
    "# 1. 화면 출력 확인\n",
    "plt.plot(X, y, \"b.\")\n",
    "plt.xlabel(\"$x_1$\", fontsize = 18)\n",
    "plt.ylabel(\"$y$\", rotation = 0, fontsize = 18)\n",
    "plt.axis([0, 2, 0, 15])\n",
    "plt.show()\n",
    "# X 와 y 에 대한 산점도 그래프를 그립니다"
   ]
  },
  {
   "cell_type": "code",
   "execution_count": null,
   "metadata": {},
   "outputs": [],
   "source": []
  },
  {
   "cell_type": "markdown",
   "metadata": {},
   "source": [
    "## 1. 정규 방정식을 사용한 선형회귀 접근"
   ]
  },
  {
   "cell_type": "code",
   "execution_count": 4,
   "metadata": {},
   "outputs": [],
   "source": [
    "X_b = np.c_[np.ones((100, 1)), X]\n",
    "theta_best = np.linalg.inv(X_b.T.dot(X_b)).dot(X_b.T).dot(y)\n",
    "# numpy 의 linalg 를 사용하여 선형회귀를 진행합니다. 최적의 theta 값을 구합니다"
   ]
  },
  {
   "cell_type": "code",
   "execution_count": 5,
   "metadata": {},
   "outputs": [
    {
     "name": "stdout",
     "output_type": "stream",
     "text": [
      "[[4.38912303]\n",
      " [2.61339144]]\n"
     ]
    }
   ],
   "source": [
    "# 2. theta_best 출력 확인\n",
    "print(theta_best)"
   ]
  },
  {
   "cell_type": "code",
   "execution_count": null,
   "metadata": {},
   "outputs": [],
   "source": []
  },
  {
   "cell_type": "code",
   "execution_count": 22,
   "metadata": {},
   "outputs": [],
   "source": [
    "X_new = np.array([[0], [2]])\n",
    "X_new_b = np.c_[np.ones((2, 1)), X_new]\n",
    "y_predict = X_new_b.dot(theta_best)\n",
    "# X 값이 0 이거나 2 일때 y 값을 예측하여 y_predict 에 저장합니다"
   ]
  },
  {
   "cell_type": "code",
   "execution_count": 23,
   "metadata": {},
   "outputs": [
    {
     "name": "stdout",
     "output_type": "stream",
     "text": [
      "[[4.38912303]\n",
      " [9.61590591]]\n"
     ]
    }
   ],
   "source": [
    "# 3. y_predict 출력 확인\n",
    "print(y_predict)"
   ]
  },
  {
   "cell_type": "code",
   "execution_count": null,
   "metadata": {},
   "outputs": [],
   "source": []
  },
  {
   "cell_type": "code",
   "execution_count": 24,
   "metadata": {},
   "outputs": [
    {
     "data": {
      "image/png": "[encoded data removed]",
      "text/plain": [
       "<Figure size 432x288 with 1 Axes>"
      ]
     },
     "metadata": {},
     "output_type": "display_data"
    }
   ],
   "source": [
    "# 4. 화면 출력 확인\n",
    "plt.plot(X_new, y_predict, \"r-\", linewidth = 2, label = \"prediction\")\n",
    "plt.plot(X, y, \"b.\")\n",
    "plt.xlabel(\"$x_1$\", fontsize = 18)\n",
    "plt.ylabel(\"$y$\", rotation = 0, fontsize = 18)\n",
    "plt.legend(loc = \"upper left\", fontsize = 14)\n",
    "plt.axis([0, 2, 0, 15])\n",
    "plt.show()\n",
    "# 두 점에 대한 예측 y_predict 와 테스트 X값 X_new 를 통해 직선을 그립니다\n",
    "# 이 직선은 X 를 특성으로 y 값을 예측하는 선형회귀 직선입니다"
   ]
  },
  {
   "cell_type": "code",
   "execution_count": null,
   "metadata": {},
   "outputs": [],
   "source": []
  },
  {
   "cell_type": "code",
   "execution_count": 26,
   "metadata": {},
   "outputs": [],
   "source": [
    "from sklearn.linear_model import LinearRegression\n",
    "# 이번에는 sklearn 의 linear regression 패키지를 이용하여 선형회귀를 구현합니다"
   ]
  },
  {
   "cell_type": "code",
   "execution_count": 27,
   "metadata": {},
   "outputs": [
    {
     "data": {
      "text/plain": [
       "LinearRegression(copy_X=True, fit_intercept=True, n_jobs=1, normalize=False)"
      ]
     },
     "execution_count": 27,
     "metadata": {},
     "output_type": "execute_result"
    }
   ],
   "source": [
    "lin_reg = LinearRegression()\n",
    "lin_reg.fit(X, y)\n",
    "# fit 메소드를 이용해 X 특성에 대한 y 목표값을 예측합니다."
   ]
  },
  {
   "cell_type": "code",
   "execution_count": 29,
   "metadata": {},
   "outputs": [
    {
     "name": "stdout",
     "output_type": "stream",
     "text": [
      "[4.38912303] [[2.61339144]]\n"
     ]
    }
   ],
   "source": [
    "# 5. lin_reg.intercept_, lin_reg.coef_ 출력 확인\n",
    "print(lin_reg.intercept_, lin_reg.coef_)\n",
    "# 생성된 LinearRegression 직선의 bias 와 weight 를 출력합니다"
   ]
  },
  {
   "cell_type": "code",
   "execution_count": 31,
   "metadata": {},
   "outputs": [
    {
     "name": "stdout",
     "output_type": "stream",
     "text": [
      "[[4.38912303]\n",
      " [9.61590591]]\n"
     ]
    }
   ],
   "source": [
    "# 6. lin_reg.predict(X_new) 출력 확인\n",
    "print(lin_reg.predict(X_new))\n",
    "# 해당 모델로 앞에 나온 테스트 데이터 X_new 를 예측합니다"
   ]
  },
  {
   "cell_type": "code",
   "execution_count": 33,
   "metadata": {},
   "outputs": [],
   "source": [
    "theta_best_svd, redisuals, rank, s = np.linalg.lstsq(X_b, y, rcond = 1e-6)\n",
    "# 최적의 theta 값을 찾습니다"
   ]
  },
  {
   "cell_type": "code",
   "execution_count": 34,
   "metadata": {},
   "outputs": [
    {
     "name": "stdout",
     "output_type": "stream",
     "text": [
      "[[4.38912303]\n",
      " [2.61339144]]\n"
     ]
    }
   ],
   "source": [
    "# 7. theta_best_svd 출력 확인\n",
    "print(theta_best_svd)"
   ]
  },
  {
   "cell_type": "code",
   "execution_count": 35,
   "metadata": {},
   "outputs": [
    {
     "name": "stdout",
     "output_type": "stream",
     "text": [
      "[[4.38912303]\n",
      " [2.61339144]]\n"
     ]
    }
   ],
   "source": [
    "# 8. np.linalg.pinv(X_b).dot(y) 출력 확인\n",
    "print(np.linalg.pinv(X_b).dot(y))\n",
    "# 테스트 데이터 X_b 에 대한 theta 를 출력합니다"
   ]
  },
  {
   "cell_type": "code",
   "execution_count": null,
   "metadata": {},
   "outputs": [],
   "source": []
  },
  {
   "cell_type": "markdown",
   "metadata": {},
   "source": [
    "## 2. 경사 하강법을 사용한 선형회귀 접근"
   ]
  },
  {
   "cell_type": "code",
   "execution_count": 36,
   "metadata": {},
   "outputs": [],
   "source": [
    "eta = 0.1\n",
    "n_iterations = 1000\n",
    "m = 100\n",
    "theta = np.random.randn(2, 1)\n",
    "for iteration in range(n_iterations):\n",
    "    gradients = 2/m * X_b.T.dot(X_b.dot(theta) - y)\n",
    "    theta = theta - eta * gradients\n",
    "# 최적값을 찾기 위해 학습률이 0.1인 Gradient Descent를 1000회 반복합니다"
   ]
  },
  {
   "cell_type": "code",
   "execution_count": 38,
   "metadata": {},
   "outputs": [
    {
     "name": "stdout",
     "output_type": "stream",
     "text": [
      "[[4.38912303]\n",
      " [2.61339144]]\n"
     ]
    }
   ],
   "source": [
    "# 9. theta 출력 확인\n",
    "print(theta)\n",
    "# 최적의 theta 값을 출력합니다"
   ]
  },
  {
   "cell_type": "code",
   "execution_count": 39,
   "metadata": {},
   "outputs": [
    {
     "name": "stdout",
     "output_type": "stream",
     "text": [
      "[[4.38912303]\n",
      " [9.61590591]]\n"
     ]
    }
   ],
   "source": [
    "print(X_new_b.dot(theta))\n",
    "# 앞에서의 테스트셋 X_new_b 를 예측합니다"
   ]
  },
  {
   "cell_type": "code",
   "execution_count": null,
   "metadata": {},
   "outputs": [],
   "source": []
  },
  {
   "cell_type": "code",
   "execution_count": 41,
   "metadata": {},
   "outputs": [],
   "source": [
    "theta_path_bgd = []\n",
    "def plot_gradient_descent(theta, eta, theta_path = None):\n",
    "    m = len(X_b)\n",
    "    plt.plot(X, y, \"b.\")\n",
    "    n_iterations = 1000\n",
    "    for iteration in range(n_iterations):\n",
    "        if iteration < 10:\n",
    "            y_predict = X_new_b.dot(theta)\n",
    "            style = \"b-\" if iteration > 0 else \"r--\"\n",
    "            plt.plot(X_new, y_predict, style)\n",
    "        gradients = 2/m * X_b.T.dot(X_b.dot(theta) - y)\n",
    "        theta = theta - eta * gradients\n",
    "        if theta_path is not None:\n",
    "            theta_path.append(theta)\n",
    "    plt.xlabel(\"$x_1\", fontsize = 18)\n",
    "    plt.axis([0, 2, 0, 15])\n",
    "    plt.title(r\"$\\eta = {}$\".format(eta), fontsize = 16)\n",
    "# theta 값의 변화에 따른 선형회귀 직선의 변화를 살펴보기 위해 함수를 생성합니다"
   ]
  },
  {
   "cell_type": "code",
   "execution_count": 43,
   "metadata": {},
   "outputs": [
    {
     "data": {
      "image/png": "[encoded data removed]",
      "text/plain": [
       "<Figure size 720x288 with 2 Axes>"
      ]
     },
     "metadata": {},
     "output_type": "display_data"
    }
   ],
   "source": [
    "# 11. 화면 출력 확인\n",
    "np.random.seed(42)\n",
    "theta = np.random.randn(2, 1)\n",
    "plt.figure(figsize = (10, 4))\n",
    "plt.subplot(131)\n",
    "plot_gradient_descent(theta, eta = 0.02)\n",
    "plt.ylabel(\"$y$\", rotation = 0, fontsize = 18)\n",
    "plt.subplot(133)\n",
    "plot_gradient_descent(theta, eta = 0.5)\n",
    "plt.show()\n",
    "# 학습률이 0.02 일 때와 0.5 일 때의 선형회귀 직선의 이동 변화를 볼 수 있습니다\n",
    "# 학습률이 너무 작으면 시간이 너무 오래걸리며, 학습률이 너무 높으면 수렴하지 못합니다"
   ]
  },
  {
   "cell_type": "code",
   "execution_count": null,
   "metadata": {},
   "outputs": [],
   "source": []
  },
  {
   "cell_type": "markdown",
   "metadata": {},
   "source": [
    "## 3. 스토캐스틱 경사 하강법을 사용한 선형회귀 접근"
   ]
  },
  {
   "cell_type": "code",
   "execution_count": 44,
   "metadata": {
    "scrolled": false
   },
   "outputs": [
    {
     "data": {
      "image/png": "[encoded data removed]",
      "text/plain": [
       "<Figure size 432x288 with 1 Axes>"
      ]
     },
     "metadata": {},
     "output_type": "display_data"
    }
   ],
   "source": [
    "# 12. 화면 출력 확인\n",
    "theta_path_sgd = []\n",
    "m = len(X_b)\n",
    "np.random.seed(42)\n",
    "n_epochs = 50\n",
    "t0, t1 = 5, 50\n",
    "def learning_schedule(t):\n",
    "    return t0/(t+t1)\n",
    "theta = np.random.randn(2, 1)\n",
    "for epoch in range(n_epochs):\n",
    "    for i in range(m):\n",
    "        if epoch == 0 and i < 20:\n",
    "            y_predict = X_new_b.dot(theta)\n",
    "            style = \"b-\" if i > 0 else \"r--\"\n",
    "            plt.plot(X_new, y_predict, style)\n",
    "        random_index = np.random.randint(m)\n",
    "        xi = X_b[random_index:random_index + 1]\n",
    "        yi = y[random_index:random_index + 1]\n",
    "        gradients = 2 * xi.T.dot(xi.dot(theta) - yi)\n",
    "        eta = learning_schedule(epoch * m + i)\n",
    "        theta = theta - eta * gradients\n",
    "        theta_path_sgd.append(theta)\n",
    "        \n",
    "plt.plot(X, y, \"b.\")\n",
    "plt.xlabel(\"$x_1$\", fontsize = 18)\n",
    "plt.ylabel(\"$y$\", rotation = 0, fontsize = 18)\n",
    "plt.axis([0, 2, 0, 15])\n",
    "plt.show()\n",
    "# 스토캐스틱 경사 하강법을 이용하여 특정 샘플에 대해서 Gradient 를 계산하고 경사 하강을 진행합니다\n",
    "# 이를 통해 배치 경사 하강 알고리즘에 비해 빠른 속도로 경사 하강이 진행됩니다"
   ]
  },
  {
   "cell_type": "code",
   "execution_count": 45,
   "metadata": {},
   "outputs": [
    {
     "name": "stdout",
     "output_type": "stream",
     "text": [
      "[[4.4416766 ]\n",
      " [2.61591257]]\n"
     ]
    }
   ],
   "source": [
    "# 13. theta 출력 확인\n",
    "print(theta)\n",
    "# 최종적인 theta 값을 출력합니다"
   ]
  },
  {
   "cell_type": "code",
   "execution_count": null,
   "metadata": {},
   "outputs": [],
   "source": []
  },
  {
   "cell_type": "code",
   "execution_count": 46,
   "metadata": {},
   "outputs": [],
   "source": [
    "from sklearn.linear_model import SGDRegressor\n",
    "sgd_reg = SGDRegressor(max_iter = 50, penalty = None, eta0 = 0.1, random_state = 42)\n",
    "# sklearn 패키지의 스토캐스틱 경사 하강 알고리즘을 가져옵니다"
   ]
  },
  {
   "cell_type": "code",
   "execution_count": 47,
   "metadata": {},
   "outputs": [
    {
     "data": {
      "text/plain": [
       "SGDRegressor(alpha=0.0001, average=False, epsilon=0.1, eta0=0.1,\n",
       "       fit_intercept=True, l1_ratio=0.15, learning_rate='invscaling',\n",
       "       loss='squared_loss', max_iter=50, n_iter=None, penalty=None,\n",
       "       power_t=0.25, random_state=42, shuffle=True, tol=None, verbose=0,\n",
       "       warm_start=False)"
      ]
     },
     "execution_count": 47,
     "metadata": {},
     "output_type": "execute_result"
    }
   ],
   "source": [
    "# 14. sgd_reg.fit(X, y.ravel()) 출력 확인\n",
    "sgd_reg.fit(X, y.ravel())\n",
    "# 가져온 모델을 X 와 y 를 이용하여 학습시킵니다"
   ]
  },
  {
   "cell_type": "code",
   "execution_count": 48,
   "metadata": {},
   "outputs": [
    {
     "name": "stdout",
     "output_type": "stream",
     "text": [
      "[4.38969859]\n",
      "[2.60540838]\n"
     ]
    }
   ],
   "source": [
    "# 15. sgd_reg.intercept_, sgd_reg.coef_ 출력 확인\n",
    "print(sgd_reg.intercept_)\n",
    "print(sgd_reg.coef_)\n",
    "# 스토캐스틱 경사 하강 알고리즘을 통해 만들어진 모델의 bias 와 weight 를 출력합니다"
   ]
  },
  {
   "cell_type": "code",
   "execution_count": null,
   "metadata": {},
   "outputs": [],
   "source": []
  },
  {
   "cell_type": "code",
   "execution_count": 51,
   "metadata": {},
   "outputs": [],
   "source": [
    "theta_path_mgd = []\n",
    "n_iterations = 50\n",
    "minibatch_size = 20\n",
    "np.random.seed(42)\n",
    "theta = np.random.randn(2, 1)\n",
    "t0, t1 = 200, 1000\n",
    "def learning_schedule(t):\n",
    "    return t0/(t+t1)\n",
    "t = 0\n",
    "for epoch in range(n_iterations):\n",
    "    shuffled_indices = np.random.permutation(m)\n",
    "    X_b_shuffled = X_b[shuffled_indices]\n",
    "    y_shuffled = y[shuffled_indices]\n",
    "    for i in range(0, m, minibatch_size):\n",
    "        t += 1\n",
    "        xi = X_b_shuffled[i:i + minibatch_size]\n",
    "        yi = y_shuffled[i:i + minibatch_size]\n",
    "        gradients = 2/minibatch_size * xi.T.dot(xi.dot(theta) - yi)\n",
    "        eta = learning_schedule(t)\n",
    "        theta = theta - eta * gradients\n",
    "        theta_path_mgd.append(theta)\n",
    "# 미니 배치 경사하강법을 이용하여 모델을 생성합니다\n",
    "# 이 때 최적의 theta 값을 저장합니다"
   ]
  },
  {
   "cell_type": "code",
   "execution_count": 52,
   "metadata": {},
   "outputs": [
    {
     "name": "stdout",
     "output_type": "stream",
     "text": [
      "[[4.36546514]\n",
      " [2.56701354]]\n"
     ]
    }
   ],
   "source": [
    "# 16. theta 출력 확인\n",
    "print(theta)\n",
    "# 미니 배치 경사하강법의 최적 theta 값을 출력합니다"
   ]
  },
  {
   "cell_type": "code",
   "execution_count": null,
   "metadata": {},
   "outputs": [],
   "source": []
  },
  {
   "cell_type": "code",
   "execution_count": 53,
   "metadata": {},
   "outputs": [],
   "source": [
    "theta_path_bgd = np.array(theta_path_bgd)\n",
    "theta_path_sgd = np.array(theta_path_sgd)\n",
    "theta_path_mgd = np.array(theta_path_mgd)\n",
    "# 배치 경사 하강 / 스토캐스틱 경사 하강 / 미니 배치 경사 하강의 theta 진행을 저장합니다"
   ]
  },
  {
   "cell_type": "code",
   "execution_count": 54,
   "metadata": {},
   "outputs": [
    {
     "data": {
      "image/png": "[encoded data removed]",
      "text/plain": [
       "<Figure size 504x288 with 1 Axes>"
      ]
     },
     "metadata": {},
     "output_type": "display_data"
    }
   ],
   "source": [
    "plt.figure(figsize = (7, 4))\n",
    "plt.plot(theta_path_sgd[:, 0], theta_path_sgd[:, 1], \"r-s\", linewidth = 1, label = \"SGD\")\n",
    "plt.plot(theta_path_mgd[:, 0], theta_path_mgd[:, 1], \"g-+\", linewidth = 2, label = \"MINI_BATCH\")\n",
    "plt.plot(theta_path_sgd[:, 0], theta_path_sgd[:, 1], \"b-o\", linewidth = 3, label = \"BATCH\")\n",
    "plt.legend(loc = \"upper left\", fontsize = 16)\n",
    "plt.xlabel(r\"$\\theta_0$\", fontsize = 20)\n",
    "plt.xlabel(r\"$\\theta_1$  \", fontsize = 20, rotation = 0)\n",
    "plt.axis([2.5, 4.5, 2.3, 3.9])\n",
    "plt.show()\n",
    "# 각각의 방법이 어떤 경로로 최적의 theta 값을 찾아가는지 그래프로 표현합니다"
   ]
  },
  {
   "cell_type": "code",
   "execution_count": null,
   "metadata": {},
   "outputs": [],
   "source": []
  }
 ],
 "metadata": {
  "kernelspec": {
   "display_name": "Python 3",
   "language": "python",
   "name": "python3"
  },
  "language_info": {
   "codemirror_mode": {
    "name": "ipython",
    "version": 3
   },
   "file_extension": ".py",
   "mimetype": "text/x-python",
   "name": "python",
   "nbconvert_exporter": "python",
   "pygments_lexer": "ipython3",
   "version": "3.6.5"
  }
 },
 "nbformat": 4,
 "nbformat_minor": 2
}
