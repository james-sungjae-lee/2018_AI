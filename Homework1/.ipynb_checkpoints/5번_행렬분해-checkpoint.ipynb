{
 "cells": [
  {
   "cell_type": "markdown",
   "metadata": {},
   "source": [
    "## Artificial Intelligence Assignment 1\n",
    "## 5번 : 행렬\n",
    "## 20132651 Sungjae Lee"
   ]
  },
  {
   "cell_type": "code",
   "execution_count": 1,
   "metadata": {},
   "outputs": [],
   "source": [
    "import numpy as np"
   ]
  },
  {
   "cell_type": "code",
   "execution_count": 4,
   "metadata": {
    "scrolled": true
   },
   "outputs": [
    {
     "name": "stdout",
     "output_type": "stream",
     "text": [
      "[[ 1 -2  3  5]\n",
      " [ 2  2 -1  0]\n",
      " [ 3  0  1  2]\n",
      " [ 1  0  2  0]]\n"
     ]
    }
   ],
   "source": [
    "A = np.matrix('1 -2 3 5; 2 2 -1 0; 3 0 1 2; 1 0 2 0')\n",
    "print(A)"
   ]
  },
  {
   "cell_type": "code",
   "execution_count": 8,
   "metadata": {},
   "outputs": [
    {
     "data": {
      "text/plain": [
       "matrix([[ 2, -4,  6, 10],\n",
       "        [ 4,  4, -2,  0],\n",
       "        [ 6,  0,  2,  4],\n",
       "        [ 2,  0,  4,  0]])"
      ]
     },
     "execution_count": 8,
     "metadata": {},
     "output_type": "execute_result"
    }
   ],
   "source": [
    "# 2 * A 의 출력\n",
    "2*A"
   ]
  },
  {
   "cell_type": "code",
   "execution_count": 13,
   "metadata": {},
   "outputs": [
    {
     "name": "stdout",
     "output_type": "stream",
     "text": [
      "[[ 1  2  3  1]\n",
      " [-2  2  0  0]\n",
      " [ 3 -1  1  2]\n",
      " [ 5  0  2  0]]\n"
     ]
    }
   ],
   "source": [
    "# A 의 전치행렬 Transposed Matrix 의 출력\n",
    "print(A.T)"
   ]
  },
  {
   "cell_type": "code",
   "execution_count": 12,
   "metadata": {},
   "outputs": [
    {
     "name": "stdout",
     "output_type": "stream",
     "text": [
      "[[-0.23529412 -0.23529412  0.58823529 -0.05882353]\n",
      " [ 0.29411765  0.79411765 -0.73529412  0.32352941]\n",
      " [ 0.11764706  0.11764706 -0.29411765  0.52941176]\n",
      " [ 0.29411765  0.29411765 -0.23529412 -0.17647059]]\n"
     ]
    }
   ],
   "source": [
    "# A 의 역행렬 Inversed Matrix 의 출력\n",
    "print(A.I)"
   ]
  },
  {
   "cell_type": "code",
   "execution_count": 16,
   "metadata": {},
   "outputs": [
    {
     "name": "stdout",
     "output_type": "stream",
     "text": [
      "4\n"
     ]
    }
   ],
   "source": [
    "# A 행렬의 계수 rank 의 출력\n",
    "from numpy.linalg import matrix_rank\n",
    "print(matrix_rank(A))"
   ]
  },
  {
   "cell_type": "code",
   "execution_count": 18,
   "metadata": {},
   "outputs": [
    {
     "name": "stdout",
     "output_type": "stream",
     "text": [
      "34.00000000000001\n"
     ]
    }
   ],
   "source": [
    "# A 행렬의 행렬식 determinant 의 출력\n",
    "from numpy.linalg import det\n",
    "print(det(A))"
   ]
  },
  {
   "cell_type": "code",
   "execution_count": 21,
   "metadata": {},
   "outputs": [
    {
     "name": "stdout",
     "output_type": "stream",
     "text": [
      "(array([ 5.52552524+0.j        , -1.52204833+1.31733645j,\n",
      "       -1.52204833-1.31733645j,  1.51857142+0.j        ]), matrix([[-0.68465996+0.j        ,  0.619935  +0.j        ,\n",
      "          0.619935  -0.j        ,  0.11199539+0.j        ],\n",
      "        [-0.21666012+0.j        , -0.34875983-0.24694874j,\n",
      "         -0.34875983+0.24694874j, -0.93998928+0.j        ],\n",
      "        [-0.60547918+0.j        , -0.31379356-0.41033136j,\n",
      "         -0.31379356+0.41033136j, -0.22854692+0.j        ],\n",
      "        [-0.34306572+0.j        , -0.263929  +0.31075191j,\n",
      "         -0.263929  -0.31075191j, -0.22725204+0.j        ]]))\n"
     ]
    }
   ],
   "source": [
    "# A 행렬의 고유 분해 eigen decomposition 의 출력\n",
    "from numpy.linalg import eig\n",
    "print(eig(A))"
   ]
  },
  {
   "cell_type": "code",
   "execution_count": 22,
   "metadata": {},
   "outputs": [
    {
     "name": "stdout",
     "output_type": "stream",
     "text": [
      "(matrix([[-0.8819521 ,  0.25706354, -0.24178316, -0.31244156],\n",
      "        [ 0.05743106, -0.76320224, -0.26028922, -0.58862003],\n",
      "        [-0.42722253, -0.58124436,  0.04756433,  0.69092224],\n",
      "        [-0.19063859, -0.11660051,  0.93355667, -0.28023773]]), array([6.97059301, 3.8068416 , 1.85521105, 0.69063894]), matrix([[-0.32126336,  0.26952747, -0.50380033, -0.75520197],\n",
      "        [-0.8221184 , -0.53601693,  0.18911937,  0.03226532],\n",
      "        [ 0.16919264, -0.01995035,  0.78137601, -0.60035603],\n",
      "        [ 0.43850318, -0.7997767 , -0.31602313, -0.2611543 ]]))\n"
     ]
    }
   ],
   "source": [
    "# A 의 특이값 분해 singular value decomposition 의 출력\n",
    "from numpy.linalg import svd\n",
    "print(svd(A))"
   ]
  },
  {
   "cell_type": "code",
   "execution_count": null,
   "metadata": {},
   "outputs": [],
   "source": []
  }
 ],
 "metadata": {
  "kernelspec": {
   "display_name": "Python 3",
   "language": "python",
   "name": "python3"
  },
  "language_info": {
   "codemirror_mode": {
    "name": "ipython",
    "version": 3
   },
   "file_extension": ".py",
   "mimetype": "text/x-python",
   "name": "python",
   "nbconvert_exporter": "python",
   "pygments_lexer": "ipython3",
   "version": "3.6.5"
  }
 },
 "nbformat": 4,
 "nbformat_minor": 2
}
