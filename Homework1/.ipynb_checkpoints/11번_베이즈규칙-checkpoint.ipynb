{
 "cells": [
  {
   "cell_type": "markdown",
   "metadata": {},
   "source": [
    "## Artificial Intelligence Assignment 1\n",
    "## 11번 : 베이즈 규칙\n",
    "## 20132651 Sungjae Lee"
   ]
  },
  {
   "cell_type": "markdown",
   "metadata": {},
   "source": [
    "베이즈 규칙을 활용하여 해당 문제를 풀면 다음과 같습니다.<br><br>\n",
    "\n",
    "우선 도전자는 진행자가 3번 문을 연 다음, 그대로 1번 문을 선택하거나 2번 문으로 선택을 변경합니다.<br><br>\n",
    "\n",
    "이 때, 1, 2, 3번 문에 상품이 존재할 확률을 각각 P(A1), P(A2), P(A3) 라고 할 수 있습니다. <br><br>\n",
    "\n",
    "그렇다면 베이즈 규칙에 의해 우리가 구해야 하는 것은 다음과 같습니다.<br><br>\n",
    "\n",
    "(a) : 진행자가 3번 문을 열었을 때, 1번 문을 그대로 선택하였을 때 상품이 존재할 확률 <br>\n",
    "(b) : 진행자가 3번 문을 열었을 때, 2번 문으로 변경하였을 때 상품이 존재할 확률 <br>\n",
    "(c) : 위의 두 확률은 동일함 (즉, (a) 와 (b) 의 확률은 50% 임)<br><br>\n",
    "\n",
    "이를 구하기 위해서는 진행자가 3번 문을 연다는 사건 B 속에서의 P(A1), P(A2), P(A3) 의 조건부 확률을 구해야 합니다.<br><br>\n",
    "\n",
    "(a) 를 기준으로 계산을 진행하면 다음과 같습니다.<br><br>\n",
    "\n",
    "P(A1|B) = { P(B|A1) * P(A1) } / { P(B|A1) * P(A1) + P(B|A2) * P(A2) + P(B|A3) * P(A3) }<br><br>\n",
    "\n",
    "수식을 설명하면 이렇습니다. P(A1|B) 는 진행자가 문을 열었을 때, 1번째 문에 상품이 존재할 확률입니다. 이는 진행자가 문을 열었을 때, 각각의 문에 상품이 존재할 확률 중에서, 1번째 문에 상품이 존재할 확률과 동일합니다. n번 문에 상품이 존재할 확률은 P(B|An) * P(An) 이므로 위와 같은 수식이 나타나게 됩니다 <br><br>\n",
    "\n",
    "수식을 계산하면 다음과 같습니다.<br><br>\n",
    "P(B|A1) * P(A1) == P(B|A2) * P(A2) == P(B|A3) * P(A3) == 1/3 이므로, <br>\n",
    "(1/3) / (1/3 + 1/3 + 1/3) == (1/3) / (3/3) = 1/3<br>\n",
    "즉, (a) 의 확률, 1번 문을 그대로 선택했을 때 그 문에 상품이 존재하여 상품을 얻을 확률은 1/3 입니다 <br><br>\n",
    "\n",
    "당연히 (b) 의 확률, 2번 문으로 선택을 변경하였을 때의 확률은 1 - (a) 로 2/3 입니다.<br>\n",
    "그러므로 (b) 의 확률이 높음을 유도해 내어 선택을 변경하는 (b) 의 전략을 선택하는 것이 합리적임을 알 수 있습니다\n",
    "\n"
   ]
  },
  {
   "cell_type": "code",
   "execution_count": null,
   "metadata": {},
   "outputs": [],
   "source": []
  }
 ],
 "metadata": {
  "kernelspec": {
   "display_name": "Python 3",
   "language": "python",
   "name": "python3"
  },
  "language_info": {
   "codemirror_mode": {
    "name": "ipython",
    "version": 3
   },
   "file_extension": ".py",
   "mimetype": "text/x-python",
   "name": "python",
   "nbconvert_exporter": "python",
   "pygments_lexer": "ipython3",
   "version": "3.6.5"
  }
 },
 "nbformat": 4,
 "nbformat_minor": 2
}
