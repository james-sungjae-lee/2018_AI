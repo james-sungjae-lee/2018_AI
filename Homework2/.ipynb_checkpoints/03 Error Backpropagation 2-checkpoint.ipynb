{
 "cells": [
  {
   "cell_type": "markdown",
   "metadata": {},
   "source": [
    "## Artificial Intelligence Assignment 2\n",
    "## No3. Error Backpropagation 2\n",
    "## 20132651 Sungjae Lee"
   ]
  },
  {
   "cell_type": "code",
   "execution_count": 1,
   "metadata": {},
   "outputs": [],
   "source": [
    "import torch\n",
    "from torch.autograd import Variable\n",
    "\n",
    "# requires_grad 의 누락으로 이를 추가해주기 위해\n",
    "# pytorch 의 Variable 을 추가로 import 하였습니다."
   ]
  },
  {
   "cell_type": "code",
   "execution_count": 2,
   "metadata": {},
   "outputs": [],
   "source": [
    "x = torch.randn(1, 10)\n",
    "prev_h = torch.randn(1, 20)\n",
    "w_h = torch.randn(20, 20)\n",
    "w_x = torch.randn(20, 10)\n",
    "\n",
    "# x, prev_h, w_h, w_x 를 정규분포를 따르는 랜덤 입력값으로 생성합니다."
   ]
  },
  {
   "cell_type": "code",
   "execution_count": 3,
   "metadata": {},
   "outputs": [],
   "source": [
    "i2h = torch.mm(w_x, x.t())\n",
    "h2h = torch.mm(w_h, prev_h.t())\n",
    "next_h = i2h + h2h\n",
    "next_h = next_h.tanh()\n",
    "\n",
    "# w_x 와 x 의 transpose 매트릭스를 matmul 연산으로 i2h 에 저장합니다.\n",
    "# w_h 와 prev_h 의 transpose 매트릭스를 matmul 연산으로 h2h 에 저장합니다.\n",
    "# next_h 로 i2h 와 h2h 를 합한 다음, hyperbolic tangent 함수를 적용시킨 값을 저장합니다."
   ]
  },
  {
   "cell_type": "markdown",
   "metadata": {},
   "source": [
    "### (1) 해당 신경망의 그래프 연산을 손으로 작성"
   ]
  },
  {
   "cell_type": "code",
   "execution_count": 4,
   "metadata": {},
   "outputs": [],
   "source": [
    "loss = next_h.sum()\n",
    "loss = Variable(loss, requires_grad = True)\n",
    "loss.backward()\n",
    "\n",
    "# loss 를 next_h 의 값들에 대한 Sigma 로 저장한 다음,\n",
    "# torch 의 backward 를 이용하여 backprop 을 진행합니다"
   ]
  },
  {
   "cell_type": "markdown",
   "metadata": {},
   "source": [
    "### (2) loss 출력 확인"
   ]
  },
  {
   "cell_type": "code",
   "execution_count": 5,
   "metadata": {},
   "outputs": [
    {
     "name": "stdout",
     "output_type": "stream",
     "text": [
      "tensor(1.5662, requires_grad=True)\n"
     ]
    }
   ],
   "source": [
    "print(loss)"
   ]
  }
 ],
 "metadata": {
  "kernelspec": {
   "display_name": "Python 3",
   "language": "python",
   "name": "python3"
  },
  "language_info": {
   "codemirror_mode": {
    "name": "ipython",
    "version": 3
   },
   "file_extension": ".py",
   "mimetype": "text/x-python",
   "name": "python",
   "nbconvert_exporter": "python",
   "pygments_lexer": "ipython3",
   "version": "3.6.5"
  }
 },
 "nbformat": 4,
 "nbformat_minor": 2
}
