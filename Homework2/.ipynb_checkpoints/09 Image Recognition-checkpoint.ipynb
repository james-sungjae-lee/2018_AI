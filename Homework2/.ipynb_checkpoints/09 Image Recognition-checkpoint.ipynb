{
 "cells": [
  {
   "cell_type": "markdown",
   "metadata": {},
   "source": [
    "## Artificial Intelligence Assignment 2\n",
    "## No9. Image Recognition\n",
    "## 20132651 Sungjae Lee"
   ]
  },
  {
   "cell_type": "code",
   "execution_count": 1,
   "metadata": {},
   "outputs": [],
   "source": [
    "import torch\n",
    "import torch.nn as nn\n",
    "import torch.nn.functional as F\n",
    "import torch.optim as optim\n",
    "from torchvision import datasets, transforms\n",
    "from torch.autograd import Variable\n",
    "import matplotlib.pyplot as plt\n",
    "%matplotlib inline\n",
    "\n",
    "# pytorch 를 이용하여 Image Recognition 을 진행하는 코드입니다. \n",
    "# 데이터셋은 손글씨 숫자 분류 데이터인 MNIST 가 사용됩니다.\n",
    "# 이를 진행하기 위해 torch / torchvision / matplotlib 을 import 합니다."
   ]
  },
  {
   "cell_type": "code",
   "execution_count": 2,
   "metadata": {},
   "outputs": [],
   "source": [
    "is_cuda=False\n",
    "if torch.cuda.is_available():\n",
    "    is_cuda = True\n",
    "\n",
    "# gpu 시스템인 cuda 의 사용 가능 여부를 체크하는 is_cuda 변수를 생성합니다."
   ]
  },
  {
   "cell_type": "code",
   "execution_count": 3,
   "metadata": {},
   "outputs": [],
   "source": [
    "transformation = transforms.Compose([transforms.ToTensor(),transforms.Normalize((0.1307,), (0.3081,))])\n",
    "\n",
    "train_dataset = datasets.MNIST('data/',train=True,transform=transformation,download=True)\n",
    "test_dataset = datasets.MNIST('data/',train=False,transform=transformation,download=True)\n",
    "\n",
    "# MNIST 데이터를 서버에서 다운로드 받습니다. train 과 test 데이터를 따로 다운로드 받아\n",
    "# data 폴더에 저장 후, train_dataset 과 test_dataset 변수에 저장합니다.\n",
    "# 이 때, 이미지의 transform 설정은 위에서의 trasnformation 세팅대로 진행합니다."
   ]
  },
  {
   "cell_type": "code",
   "execution_count": 4,
   "metadata": {},
   "outputs": [],
   "source": [
    "train_loader = torch.utils.data.DataLoader(train_dataset,batch_size=32,shuffle=True)\n",
    "test_loader = torch.utils.data.DataLoader(test_dataset,batch_size=32,shuffle=True)\n",
    "\n",
    "# batch 사이즈를 32로 하여 train 과 test 데이터를 loader 형태로 저장합니다."
   ]
  },
  {
   "cell_type": "code",
   "execution_count": 5,
   "metadata": {},
   "outputs": [],
   "source": [
    "sample_data = next(iter(train_loader))\n",
    "\n",
    "# 샘플 데이터를 학습 데이터에서 추출하여 sample_data 변수에 저장합니다."
   ]
  },
  {
   "cell_type": "code",
   "execution_count": 6,
   "metadata": {},
   "outputs": [],
   "source": [
    "def plot_img(image):\n",
    "    image = image.numpy()[0]\n",
    "    mean = 0.1307\n",
    "    std = 0.3081\n",
    "    image = ((mean * image) + std)\n",
    "    plt.imshow(image,cmap='gray')\n",
    "    \n",
    "# 이미지 데이터를 출력하는 함수, plot_img를 정의합니다."
   ]
  },
  {
   "cell_type": "markdown",
   "metadata": {},
   "source": [
    "### (1) 화면 출력 확인"
   ]
  },
  {
   "cell_type": "code",
   "execution_count": 7,
   "metadata": {},
   "outputs": [
    {
     "name": "stdout",
     "output_type": "stream",
     "text": [
      "tensor(7)\n"
     ]
    },
    {
     "data": {
      "image/png": "[encoded data removed]",
      "text/plain": [
       "<Figure size 432x288 with 1 Axes>"
      ]
     },
     "metadata": {},
     "output_type": "display_data"
    }
   ],
   "source": [
    "plot_img(sample_data[0][2])\n",
    "\n",
    "# sample_data 에서 3번째 데이터를 뽑아 출력해 봅니다.\n",
    "print(sample_data[1][2])\n",
    "# 해당 데이터에 대한 label 출력하면, 이미지에 맞는 값이 나타납니다."
   ]
  },
  {
   "cell_type": "markdown",
   "metadata": {},
   "source": [
    "### (2) 화면 출력 확인"
   ]
  },
  {
   "cell_type": "code",
   "execution_count": 8,
   "metadata": {},
   "outputs": [
    {
     "name": "stdout",
     "output_type": "stream",
     "text": [
      "tensor(8)\n"
     ]
    },
    {
     "data": {
      "image/png": "[encoded data removed]",
      "text/plain": [
       "<Figure size 432x288 with 1 Axes>"
      ]
     },
     "metadata": {},
     "output_type": "display_data"
    }
   ],
   "source": [
    "plot_img(sample_data[0][1])\n",
    "print(sample_data[1][1])\n",
    "# 이번에는 sample_data 에서 2번째 데이터를 뽑아 이미지와 레이블을 출력합니다."
   ]
  },
  {
   "cell_type": "code",
   "execution_count": 9,
   "metadata": {},
   "outputs": [],
   "source": [
    "class Net(nn.Module):\n",
    "    def __init__(self):\n",
    "        super().__init__()\n",
    "        self.conv1 = nn.Conv2d(1, 10, kernel_size=5)\n",
    "        self.conv2 = nn.Conv2d(10, 20, kernel_size=5)\n",
    "        self.conv2_drop = nn.Dropout2d()\n",
    "        self.fc1 = nn.Linear(320, 50)\n",
    "        self.fc2 = nn.Linear(50, 10)\n",
    "\n",
    "    def forward(self, x):\n",
    "        x = F.relu(F.max_pool2d(self.conv1(x), 2))\n",
    "        x = F.relu(F.max_pool2d(self.conv2_drop(self.conv2(x)), 2))\n",
    "        x = x.view(-1, 320)\n",
    "        x = F.relu(self.fc1(x))\n",
    "        #x = F.dropout(x,p=0.1, training=self.training)\n",
    "        x = self.fc2(x)\n",
    "        return F.log_softmax(x, dim=1)\n",
    "    \n",
    "# 이전의 TwoLayerNet 과 마찬가지로 구성하려는 신경망을 클래스 형태로 생성합니다.\n",
    "# convolution 층 1, 2와 fully connected 층 1, 2가 존재하며, \n",
    "# conv2 에서는 dropout 이 진행되는 모습을 확인할 수 있습니다.\n",
    "# conv1 과 2 모두 kernel size 를 5 * 5 로 진행하게 됩니다."
   ]
  },
  {
   "cell_type": "code",
   "execution_count": 10,
   "metadata": {},
   "outputs": [],
   "source": [
    "model = Net()\n",
    "if is_cuda:\n",
    "    model.cuda()\n",
    "\n",
    "# 신경망을 model 변수에 생성하며, cuda 사용 여부에 따라 cuda() 메소드를 시행합니다."
   ]
  },
  {
   "cell_type": "code",
   "execution_count": 11,
   "metadata": {},
   "outputs": [],
   "source": [
    "optimizer = optim.SGD(model.parameters(), lr=0.01)\n",
    "\n",
    "# 앞에서와 마찬가지로 SGD optimizer 를 사용하며, 이 때 학습률은 0.01 로 설정합니다."
   ]
  },
  {
   "cell_type": "code",
   "execution_count": 12,
   "metadata": {},
   "outputs": [],
   "source": [
    "data , target = next(iter(train_loader))"
   ]
  },
  {
   "cell_type": "code",
   "execution_count": 13,
   "metadata": {},
   "outputs": [],
   "source": [
    "output = model(Variable(data))\n",
    "\n",
    "# 최종적으로 model 을 통해 나오는 output 을 확인합니다."
   ]
  },
  {
   "cell_type": "markdown",
   "metadata": {},
   "source": [
    "### (3) output.size() 출력 확인"
   ]
  },
  {
   "cell_type": "code",
   "execution_count": 14,
   "metadata": {},
   "outputs": [
    {
     "name": "stdout",
     "output_type": "stream",
     "text": [
      "torch.Size([32, 10])\n"
     ]
    }
   ],
   "source": [
    "print(output.size())"
   ]
  },
  {
   "cell_type": "markdown",
   "metadata": {},
   "source": [
    "### (4) target.size() 출력 확인"
   ]
  },
  {
   "cell_type": "code",
   "execution_count": 15,
   "metadata": {},
   "outputs": [
    {
     "name": "stdout",
     "output_type": "stream",
     "text": [
      "torch.Size([32])\n"
     ]
    }
   ],
   "source": [
    "print(target.size())"
   ]
  },
  {
   "cell_type": "code",
   "execution_count": 16,
   "metadata": {},
   "outputs": [],
   "source": [
    "def fit(epoch, model, data_loader, phase = 'training', volatile = False):\n",
    "    if phase == 'training':\n",
    "        model.train()\n",
    "    if phase == 'validation':\n",
    "        model.eval()\n",
    "        volatile = True\n",
    "    running_loss = 0.0\n",
    "    running_correct = 0\n",
    "    for batch_idx, (data, target) in enumerate(data_loader):\n",
    "        if is_cuda:\n",
    "            data, target = data.cuda(), target.cuda()\n",
    "        data, target = Variable(data, volatile), Variable(target)\n",
    "        if phase == 'training':\n",
    "            optimizer.zero_grad()\n",
    "        output = model(data)\n",
    "        loss = F.nll_loss(output, target)\n",
    "        \n",
    "        running_loss += F.nll_loss(output, target, size_average = False).data[0]\n",
    "        preds = output.data.max(dim = 1, keepdim = True)[1]\n",
    "        running_correct += preds.eq(target.data.view_as(preds)).cpu().sum()\n",
    "        if phase == 'training':\n",
    "            loss.backward()\n",
    "            optimizer.step()\n",
    "            \n",
    "    loss = running_loss / len(data_loader.dataset)\n",
    "    accuracy = 100. * float(running_correct)/len(data_loader.dataset)\n",
    "    print(f'{phase} loss is {loss:{5}.{2}} and {phase} accuracy is {running_correct}/{len(data_loader.dataset)}{accuracy:{10}.{4}}')\n",
    "    return loss, accuracy\n",
    "\n",
    "# model 을 학습시키는 fit 함수를 정의합니다. 핵심 부분을 설명하면 다음과 같습니다.\n",
    "# 먼저 training 과 validation 의 두 가지로 나누어지며, 이에 따라 train 혹은 eval 함수가 작동합니다.\n",
    "# 한 번의 fit 은 한 번의 epoch 와 같으며, epoch 내에서 나누어진 batch 에 따라 학습이 진행됩니다.\n",
    "# 진행중에 output 과 target 을 비교하여 loss 변수에 저장하며, 최종적으로 loss의 합을 평균냅니다.\n",
    "# 이에 따른 loss 와 accuracy 를 출력하고, 해당 값을 반환하면 함수가 종료됩니다."
   ]
  },
  {
   "cell_type": "markdown",
   "metadata": {},
   "source": [
    "### (5) 화면 출력 확인"
   ]
  },
  {
   "cell_type": "code",
   "execution_count": 17,
   "metadata": {},
   "outputs": [
    {
     "name": "stderr",
     "output_type": "stream",
     "text": [
      "/anaconda3/lib/python3.6/site-packages/torch/nn/functional.py:52: UserWarning: size_average and reduce args will be deprecated, please use reduction='sum' instead.\n",
      "  warnings.warn(warning.format(ret))\n",
      "/anaconda3/lib/python3.6/site-packages/ipykernel_launcher.py:18: UserWarning: invalid index of a 0-dim tensor. This will be an error in PyTorch 0.5. Use tensor.item() to convert a 0-dim tensor to a Python number\n"
     ]
    },
    {
     "name": "stdout",
     "output_type": "stream",
     "text": [
      "training loss is  0.59 and training accuracy is 49064/60000     81.77\n",
      "validation loss is  0.15 and validation accuracy is 9546/10000     95.46\n",
      "training loss is  0.19 and training accuracy is 56783/60000     94.64\n",
      "validation loss is 0.089 and validation accuracy is 9733/10000     97.33\n",
      "training loss is  0.15 and training accuracy is 57429/60000     95.72\n",
      "validation loss is 0.073 and validation accuracy is 9773/10000     97.73\n",
      "training loss is  0.12 and training accuracy is 57841/60000      96.4\n",
      "validation loss is 0.062 and validation accuracy is 9817/10000     98.17\n",
      "training loss is  0.11 and training accuracy is 58024/60000     96.71\n",
      "validation loss is 0.052 and validation accuracy is 9838/10000     98.38\n",
      "training loss is   0.1 and training accuracy is 58208/60000     97.01\n",
      "validation loss is 0.045 and validation accuracy is 9857/10000     98.57\n",
      "training loss is 0.093 and training accuracy is 58325/60000     97.21\n",
      "validation loss is 0.042 and validation accuracy is 9869/10000     98.69\n",
      "training loss is 0.084 and training accuracy is 58490/60000     97.48\n",
      "validation loss is  0.04 and validation accuracy is 9868/10000     98.68\n",
      "training loss is  0.08 and training accuracy is 58548/60000     97.58\n",
      "validation loss is 0.038 and validation accuracy is 9878/10000     98.78\n",
      "training loss is 0.078 and training accuracy is 58619/60000      97.7\n",
      "validation loss is 0.035 and validation accuracy is 9881/10000     98.81\n",
      "training loss is 0.071 and training accuracy is 58700/60000     97.83\n",
      "validation loss is 0.039 and validation accuracy is 9873/10000     98.73\n",
      "training loss is 0.069 and training accuracy is 58755/60000     97.92\n",
      "validation loss is 0.035 and validation accuracy is 9887/10000     98.87\n",
      "training loss is 0.066 and training accuracy is 58823/60000     98.04\n",
      "validation loss is 0.032 and validation accuracy is 9884/10000     98.84\n",
      "training loss is 0.066 and training accuracy is 58781/60000     97.97\n",
      "validation loss is 0.031 and validation accuracy is 9900/10000      99.0\n",
      "training loss is 0.061 and training accuracy is 58875/60000     98.12\n",
      "validation loss is 0.032 and validation accuracy is 9902/10000     99.02\n",
      "training loss is 0.061 and training accuracy is 58902/60000     98.17\n",
      "validation loss is 0.031 and validation accuracy is 9900/10000      99.0\n",
      "training loss is 0.059 and training accuracy is 58925/60000     98.21\n",
      "validation loss is 0.027 and validation accuracy is 9908/10000     99.08\n",
      "training loss is 0.055 and training accuracy is 58988/60000     98.31\n",
      "validation loss is 0.027 and validation accuracy is 9905/10000     99.05\n",
      "training loss is 0.057 and training accuracy is 58986/60000     98.31\n",
      "validation loss is 0.025 and validation accuracy is 9917/10000     99.17\n"
     ]
    }
   ],
   "source": [
    "train_losses, train_accuracy = [], []\n",
    "val_losses, val_accuracy = [], []\n",
    "for epoch in range(1, 20):\n",
    "    epoch_loss, epoch_accuracy = fit(epoch, model, train_loader, phase = 'training')\n",
    "    val_ephoch_loss, val_epoch_accuracy = fit(epoch, model, test_loader, phase = 'validation')\n",
    "    train_losses.append(epoch_loss)\n",
    "    train_accuracy.append(epoch_accuracy)\n",
    "    val_losses.append(val_ephoch_loss)\n",
    "    val_accuracy.append(val_epoch_accuracy)\n",
    "    \n",
    "# 20회 epoch 로 학습을 진행합니다. 각 epoch 의 학습 결과는 training loss / validation loss\n",
    "# train accuracy / validation accuracy 총 4가지로 나타나며, 각각의 값은 list 형태로 저장됩니다."
   ]
  },
  {
   "cell_type": "markdown",
   "metadata": {},
   "source": [
    "### (6) 화면 출력 확인"
   ]
  },
  {
   "cell_type": "code",
   "execution_count": 20,
   "metadata": {},
   "outputs": [
    {
     "data": {
      "image/png": "[encoded data removed]",
      "text/plain": [
       "<Figure size 432x288 with 1 Axes>"
      ]
     },
     "metadata": {},
     "output_type": "display_data"
    }
   ],
   "source": [
    "plt.plot(range(1,len(train_losses)+1),train_losses,'bo',label = 'training loss')\n",
    "plt.plot(range(1,len(val_losses)+1),val_losses,'r',label = 'validation loss')\n",
    "plt.legend()\n",
    "plt.show()\n",
    "\n",
    "# epoch 에 따른 train, validation loss 의 변화를 보여줍니다.\n",
    "# 학습의 진행에 따라 loss 가 0에 가깝게 수렴해가는 점을 볼 수 있습니다.\n",
    "# 학습 당시의 loss 에 비해 검증할 때의 loss 가 더 작은 값을 가지는 점을 확인할 수 있습니다."
   ]
  },
  {
   "cell_type": "markdown",
   "metadata": {},
   "source": [
    "### (7) 화면 출력 확인"
   ]
  },
  {
   "cell_type": "code",
   "execution_count": 21,
   "metadata": {},
   "outputs": [
    {
     "data": {
      "image/png": "[encoded data removed]",
      "text/plain": [
       "<Figure size 432x288 with 1 Axes>"
      ]
     },
     "metadata": {},
     "output_type": "display_data"
    }
   ],
   "source": [
    "plt.plot(range(1, len(train_accuracy) + 1), train_accuracy, 'bo', label = 'train accuracy')\n",
    "plt.plot(range(1, len(val_accuracy) + 1), val_accuracy, 'r', label = 'val accuracy')\n",
    "plt.legend()\n",
    "plt.show()\n",
    "\n",
    "# epoch 에 따른 train, validation accuracy 의 변화를 보여줍니다.\n",
    "# 학습의 진행에 따라 정답률인 accuracy 가 100에 가깝게 수렵해 가는 것을 볼 수 있습니다.\n",
    "# loss 와 정 반대의 그래프로, 마찬가지로 검증의 accuracy 가 더 높게 나오는 점을 알 수 있습니다."
   ]
  }
 ],
 "metadata": {
  "kernelspec": {
   "display_name": "Python 3",
   "language": "python",
   "name": "python3"
  },
  "language_info": {
   "codemirror_mode": {
    "name": "ipython",
    "version": 3
   },
   "file_extension": ".py",
   "mimetype": "text/x-python",
   "name": "python",
   "nbconvert_exporter": "python",
   "pygments_lexer": "ipython3",
   "version": "3.6.5"
  }
 },
 "nbformat": 4,
 "nbformat_minor": 2
}
