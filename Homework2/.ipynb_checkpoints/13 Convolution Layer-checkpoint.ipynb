{
 "cells": [
  {
   "cell_type": "markdown",
   "metadata": {},
   "source": [
    "## Artificial Intelligence Assignment 2\n",
    "## No13. Convolution Layer\n",
    "## 20132651 Sungjae Lee"
   ]
  },
  {
   "cell_type": "markdown",
   "metadata": {},
   "source": [
    "# -----------------------------------"
   ]
  },
  {
   "cell_type": "markdown",
   "metadata": {},
   "source": [
    "### Convolution 연산에서 출력의 크기는\n",
    "### 입력에 대해 덧댐(padding) 과 필터의 크기, 보폭에 의해 결정된다.\n",
    "### 보폭이 1이라면, 3 * 3 필터에서는 1의 덧댐이 필요하며, \n",
    "### 5 * 5 필터에서는 2의 덧댐이 필요하다.\n",
    "### 매개변수의 개수는 학습으로 알아내야 하는 커널(필터)값의  전체크기로\n",
    "### 필터의 크기와 필터의 개수의 곱이 곧 매개변수의 개수이다"
   ]
  },
  {
   "cell_type": "markdown",
   "metadata": {},
   "source": [
    "# -----------------------------------"
   ]
  },
  {
   "cell_type": "markdown",
   "metadata": {},
   "source": [
    "## 문제 1\n",
    "### 입력 : 32 * 32\n",
    "### 필터 : 5 * 5\n",
    "### 필터 개수 : 10개\n",
    "### 덧댐 : 2"
   ]
  },
  {
   "cell_type": "markdown",
   "metadata": {},
   "source": [
    "### 출력 : 32 * 32 * 10\n",
    "### 매개변수 : 5 * 5 * 10 = 250개"
   ]
  },
  {
   "cell_type": "markdown",
   "metadata": {},
   "source": [
    "# -----------------------------------"
   ]
  },
  {
   "cell_type": "markdown",
   "metadata": {},
   "source": [
    "## 문제 2\n",
    "### 입력 : 32 * 32\n",
    "### 필터 : 3 * 3\n",
    "### 필터 개수 : 64개\n",
    "### 덧댐 : 1"
   ]
  },
  {
   "cell_type": "markdown",
   "metadata": {},
   "source": [
    "### 출력 : 32 * 32 * 64\n",
    "### 매개변수 : 3 * 3 * 64 = 576개"
   ]
  }
 ],
 "metadata": {
  "kernelspec": {
   "display_name": "Python 3",
   "language": "python",
   "name": "python3"
  },
  "language_info": {
   "codemirror_mode": {
    "name": "ipython",
    "version": 3
   },
   "file_extension": ".py",
   "mimetype": "text/x-python",
   "name": "python",
   "nbconvert_exporter": "python",
   "pygments_lexer": "ipython3",
   "version": "3.6.5"
  }
 },
 "nbformat": 4,
 "nbformat_minor": 2
}
