{
 "cells": [
  {
   "cell_type": "markdown",
   "metadata": {},
   "source": [
    "## Artificial Intelligence Assignment 2\n",
    "## No11. DMLP (4) sigmoid 함수 사용의 경우\n",
    "## 20132651 Sungjae Lee"
   ]
  },
  {
   "cell_type": "code",
   "execution_count": 1,
   "metadata": {},
   "outputs": [],
   "source": [
    "import numpy as np\n",
    "def sigmoid(mat):\n",
    "    return 1 / (1 + np.exp(-mat))"
   ]
  },
  {
   "cell_type": "code",
   "execution_count": 2,
   "metadata": {},
   "outputs": [
    {
     "name": "stdout",
     "output_type": "stream",
     "text": [
      "[[1.]] [[1. 0.]]\n"
     ]
    }
   ],
   "source": [
    "x = np.matrix('1.0 0.0')\n",
    "bias = np.matrix('1.0')\n",
    "print(bias, x)"
   ]
  },
  {
   "cell_type": "code",
   "execution_count": 3,
   "metadata": {},
   "outputs": [],
   "source": [
    "x0 = np.concatenate((bias, x), axis = 1)"
   ]
  },
  {
   "cell_type": "code",
   "execution_count": 4,
   "metadata": {},
   "outputs": [],
   "source": [
    "u1_1 = np.matrix('-0.3 1.0 1.2').transpose()\n",
    "u1_2 = np.matrix('1.6 -1.0 -1.1').transpose()"
   ]
  },
  {
   "cell_type": "code",
   "execution_count": 5,
   "metadata": {},
   "outputs": [
    {
     "name": "stdout",
     "output_type": "stream",
     "text": [
      "[[0.7]] [[0.6]]\n"
     ]
    }
   ],
   "source": [
    "x1_1 = np.matmul(x0, u1_1)\n",
    "x1_2 = np.matmul(x0, u1_2)\n",
    "print(x1_1, x1_2)"
   ]
  },
  {
   "cell_type": "code",
   "execution_count": 6,
   "metadata": {},
   "outputs": [
    {
     "name": "stdout",
     "output_type": "stream",
     "text": [
      "[[1.         0.66818777 0.64565631]]\n"
     ]
    }
   ],
   "source": [
    "x1 = np.concatenate((bias, sigmoid(x1_1), sigmoid(x1_2)), axis = 1)\n",
    "print(x1)"
   ]
  },
  {
   "cell_type": "code",
   "execution_count": 7,
   "metadata": {},
   "outputs": [],
   "source": [
    "u2_1 = np.matrix('1.0 1.0 -1.0').transpose()\n",
    "u2_2 = np.matrix('0.7 0.5 1.0').transpose()"
   ]
  },
  {
   "cell_type": "code",
   "execution_count": 8,
   "metadata": {},
   "outputs": [
    {
     "name": "stdout",
     "output_type": "stream",
     "text": [
      "[[1.02253147]] [[1.67975019]]\n"
     ]
    }
   ],
   "source": [
    "x2_1 = np.matmul(x1, u2_1)\n",
    "x2_2 = np.matmul(x1, u2_2)\n",
    "print(x2_1, x2_2)"
   ]
  },
  {
   "cell_type": "code",
   "execution_count": 9,
   "metadata": {},
   "outputs": [],
   "source": [
    "x2 = np.concatenate((bias, sigmoid(x2_1), sigmoid(x2_2)), axis = 1)"
   ]
  },
  {
   "cell_type": "code",
   "execution_count": 10,
   "metadata": {},
   "outputs": [
    {
     "name": "stdout",
     "output_type": "stream",
     "text": [
      "[[1.         0.7354654  0.84287145]]\n"
     ]
    }
   ],
   "source": [
    "print(x2)"
   ]
  },
  {
   "cell_type": "code",
   "execution_count": 11,
   "metadata": {},
   "outputs": [],
   "source": [
    "u3_1 = np.matrix('0.5 -0.8 0.9').transpose()\n",
    "u3_2 = np.matrix('-0.1 0.3 0.4').transpose()"
   ]
  },
  {
   "cell_type": "code",
   "execution_count": 12,
   "metadata": {},
   "outputs": [
    {
     "name": "stdout",
     "output_type": "stream",
     "text": [
      "[[0.67021198]] [[0.4577882]]\n"
     ]
    }
   ],
   "source": [
    "x3_1 = np.matmul(x2, u3_1)\n",
    "x3_2 = np.matmul(x2, u3_2)\n",
    "print(x3_1, x3_2)"
   ]
  },
  {
   "cell_type": "code",
   "execution_count": 13,
   "metadata": {},
   "outputs": [
    {
     "name": "stdout",
     "output_type": "stream",
     "text": [
      "[[1.         0.66155062 0.61248935]]\n"
     ]
    }
   ],
   "source": [
    "x3 = np.concatenate((bias, sigmoid(x3_1), sigmoid(x3_2)), axis = 1)\n",
    "print(x3)"
   ]
  },
  {
   "cell_type": "code",
   "execution_count": 14,
   "metadata": {},
   "outputs": [],
   "source": [
    "u4_1 = np.matrix('1.0 0.1 -0.2').transpose()\n",
    "u4_2 = np.matrix('-0.2 1.3 -0.4').transpose()"
   ]
  },
  {
   "cell_type": "code",
   "execution_count": 15,
   "metadata": {},
   "outputs": [
    {
     "name": "stdout",
     "output_type": "stream",
     "text": [
      "[[0.94365719]] [[0.41502007]]\n"
     ]
    }
   ],
   "source": [
    "x4_1 = np.matmul(x3, u4_1)\n",
    "x4_2 = np.matmul(x3, u4_2)\n",
    "print(x4_1, x4_2)"
   ]
  },
  {
   "cell_type": "code",
   "execution_count": 16,
   "metadata": {},
   "outputs": [],
   "source": [
    "o = np.concatenate((sigmoid(x4_1), sigmoid(x4_2)))"
   ]
  },
  {
   "cell_type": "code",
   "execution_count": 17,
   "metadata": {},
   "outputs": [
    {
     "name": "stdout",
     "output_type": "stream",
     "text": [
      "0.72021291 0.60807077\n",
      "[[0.7198378 ]\n",
      " [0.60229099]]\n"
     ]
    }
   ],
   "source": [
    "print(0.72021291, 0.60807077)\n",
    "print(o)"
   ]
  },
  {
   "cell_type": "code",
   "execution_count": null,
   "metadata": {},
   "outputs": [],
   "source": [
    "# 해당 위치의 가중치를 0.9로 줄였을 때, o 의 값이 약간 감소하는 것을 확인할 수 있습니다.\n",
    "# 하나의 가중치가 변하더라도 o1 과 o2 모두에게 영향을 준다는 점을 알 수 있었으며,\n",
    "# 출력에 대한 오류는 ReLU 함수의 사용과 Sigmoid 함수의 사용 모두 증가하였습니다."
   ]
  }
 ],
 "metadata": {
  "kernelspec": {
   "display_name": "Python 3",
   "language": "python",
   "name": "python3"
  },
  "language_info": {
   "codemirror_mode": {
    "name": "ipython",
    "version": 3
   },
   "file_extension": ".py",
   "mimetype": "text/x-python",
   "name": "python",
   "nbconvert_exporter": "python",
   "pygments_lexer": "ipython3",
   "version": "3.6.5"
  }
 },
 "nbformat": 4,
 "nbformat_minor": 2
}
