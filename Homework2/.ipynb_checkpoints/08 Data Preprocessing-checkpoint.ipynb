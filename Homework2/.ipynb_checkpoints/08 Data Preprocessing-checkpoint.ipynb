{
 "cells": [
  {
   "cell_type": "markdown",
   "metadata": {},
   "source": [
    "## Artificial Intelligence Assignment 2\n",
    "## No8. Data Preprocessing\n",
    "## 20132651 Sungjae Lee"
   ]
  },
  {
   "cell_type": "code",
   "execution_count": 1,
   "metadata": {},
   "outputs": [],
   "source": [
    "import torch\n",
    "from torch.utils.data import TensorDataset, DataLoader\n",
    "\n",
    "# torch 의 TensorDataset 과 DataLoader 를 추가로 import 합니다."
   ]
  },
  {
   "cell_type": "code",
   "execution_count": 2,
   "metadata": {},
   "outputs": [],
   "source": [
    " class TwoLayerNet(torch.nn.Module):\n",
    "        def __init__(self, D_in, H, D_out):\n",
    "            super(TwoLayerNet, self).__init__()\n",
    "            self.linear1 = torch.nn.Linear(D_in, H)\n",
    "            self.linear2 = torch.nn.Linear(H, D_out)\n",
    "            \n",
    "        def forward(self, x):\n",
    "            h_relu = self.linear1(x).clamp(min = 0)\n",
    "            y_pred = self.linear2(h_relu)\n",
    "            return y_pred\n",
    "        \n",
    "# 이전의 코드와 마찬가지로 Two Layer Net 클래스를 정의합니다."
   ]
  },
  {
   "cell_type": "code",
   "execution_count": 3,
   "metadata": {},
   "outputs": [],
   "source": [
    "N, D_in, H, D_out = 64, 1000, 100, 10\n",
    "x = torch.randn(N, D_in)\n",
    "y = torch.randn(N, D_out)\n",
    "\n",
    "# 위와 마찬가지로 신경망 구성을 설정합니다."
   ]
  },
  {
   "cell_type": "code",
   "execution_count": 4,
   "metadata": {},
   "outputs": [],
   "source": [
    "loader = DataLoader(TensorDataset(x, y), batch_size = 8)\n",
    "model = TwoLayerNet(D_in, H, D_out)\n",
    "\n",
    "# x 와 y 데이터셋을 바탕으로, DataLoader 를 사용하여 batch 를 분할합니다."
   ]
  },
  {
   "cell_type": "code",
   "execution_count": 5,
   "metadata": {},
   "outputs": [],
   "source": [
    "optimizer = torch.optim.SGD(model.parameters(), lr = 1e-2)\n",
    "\n",
    "# 이번에는 learning rate 를 더 작은 1e - 02 로 설정하고 진행합니다.\n",
    "# optimizer 는 아까와 동일한 SGD 를 사용합니다."
   ]
  },
  {
   "cell_type": "code",
   "execution_count": 6,
   "metadata": {},
   "outputs": [
    {
     "name": "stdout",
     "output_type": "stream",
     "text": [
      "0 0.8668628334999084\n",
      "0 1.5398504734039307\n",
      "0 1.1024609804153442\n",
      "0 1.0690079927444458\n",
      "0 0.9286471009254456\n",
      "0 0.9428011775016785\n",
      "0 1.1277846097946167\n",
      "0 1.1067018508911133\n",
      "1 0.7937982678413391\n",
      "1 1.391047477722168\n",
      "1 0.9917383193969727\n",
      "1 0.9850044846534729\n",
      "1 0.8438303470611572\n",
      "1 0.8571638464927673\n",
      "1 1.0061798095703125\n",
      "1 0.9856839776039124\n",
      "2 0.7320733666419983\n",
      "2 1.266222596168518\n",
      "2 0.9011216163635254\n",
      "2 0.9118313193321228\n",
      "2 0.7731723189353943\n",
      "2 0.7854481339454651\n",
      "2 0.9073835611343384\n",
      "2 0.8848567008972168\n",
      "3 0.6787490248680115\n",
      "3 1.1601660251617432\n",
      "3 0.8253541588783264\n",
      "3 0.8478189706802368\n",
      "3 0.7132809162139893\n",
      "3 0.722895622253418\n",
      "3 0.8246045112609863\n",
      "3 0.8008801341056824\n",
      "4 0.630899965763092\n",
      "4 1.0692063570022583\n",
      "4 0.7598689794540405\n",
      "4 0.7914360761642456\n",
      "4 0.6609030961990356\n",
      "4 0.6675143837928772\n",
      "4 0.7557369470596313\n",
      "4 0.7285773754119873\n",
      "5 0.5870456099510193\n",
      "5 0.9911118149757385\n",
      "5 0.7018150091171265\n",
      "5 0.7414661645889282\n",
      "5 0.6145423054695129\n",
      "5 0.6183814406394958\n",
      "5 0.6956366896629333\n",
      "5 0.666178822517395\n",
      "6 0.5470255017280579\n",
      "6 0.9198102951049805\n",
      "6 0.6499025225639343\n",
      "6 0.6967597603797913\n",
      "6 0.5731402039527893\n",
      "6 0.5749567747116089\n",
      "6 0.6450503468513489\n",
      "6 0.6125476360321045\n",
      "7 0.5106253027915955\n",
      "7 0.8542718291282654\n",
      "7 0.6028187870979309\n",
      "7 0.6555964946746826\n",
      "7 0.534729540348053\n",
      "7 0.5362535119056702\n",
      "7 0.5996452569961548\n",
      "7 0.5636574029922485\n",
      "8 0.4769827127456665\n",
      "8 0.7936011552810669\n",
      "8 0.5591427683830261\n",
      "8 0.6170192956924438\n",
      "8 0.49913260340690613\n",
      "8 0.5005584955215454\n",
      "8 0.558918833732605\n",
      "8 0.5195762515068054\n",
      "9 0.44578588008880615\n",
      "9 0.7373426556587219\n",
      "9 0.5190399885177612\n",
      "9 0.5806669592857361\n",
      "9 0.4659949839115143\n",
      "9 0.46708711981773376\n",
      "9 0.5217069983482361\n",
      "9 0.4789070785045624\n",
      "10 0.4167897403240204\n",
      "10 0.6854692697525024\n",
      "10 0.482281357049942\n",
      "10 0.5460935831069946\n",
      "10 0.4350208640098572\n",
      "10 0.43596628308296204\n",
      "10 0.48713991045951843\n",
      "10 0.4414403438568115\n",
      "11 0.38950157165527344\n",
      "11 0.6372100114822388\n",
      "11 0.44851574301719666\n",
      "11 0.5139768719673157\n",
      "11 0.40627992153167725\n",
      "11 0.40642422437667847\n",
      "11 0.45499253273010254\n",
      "11 0.407166451215744\n",
      "12 0.36430618166923523\n",
      "12 0.592130720615387\n",
      "12 0.41701722145080566\n",
      "12 0.48370617628097534\n",
      "12 0.37900200486183167\n",
      "12 0.37831220030784607\n",
      "12 0.42481911182403564\n",
      "12 0.3754560649394989\n",
      "13 0.3407581150531769\n",
      "13 0.5493440628051758\n",
      "13 0.3875665068626404\n",
      "13 0.45453372597694397\n",
      "13 0.353405237197876\n",
      "13 0.3519132435321808\n",
      "13 0.39640864729881287\n",
      "13 0.345466285943985\n",
      "14 0.3182644844055176\n",
      "14 0.5092511177062988\n",
      "14 0.3602656126022339\n",
      "14 0.42720019817352295\n",
      "14 0.32942909002304077\n",
      "14 0.3265182077884674\n",
      "14 0.36990806460380554\n",
      "14 0.3179282248020172\n",
      "15 0.29698267579078674\n",
      "15 0.4717503786087036\n",
      "15 0.3353360891342163\n",
      "15 0.4013405740261078\n",
      "15 0.30705875158309937\n",
      "15 0.3026610314846039\n",
      "15 0.34560054540634155\n",
      "15 0.29243671894073486\n",
      "16 0.27674853801727295\n",
      "16 0.4367724657058716\n",
      "16 0.3120463490486145\n",
      "16 0.3766084909439087\n",
      "16 0.28642934560775757\n",
      "16 0.28031235933303833\n",
      "16 0.3227972686290741\n",
      "16 0.2686026394367218\n",
      "17 0.2577526867389679\n",
      "17 0.4041630029678345\n",
      "17 0.2905072867870331\n",
      "17 0.35292068123817444\n",
      "17 0.26689693331718445\n",
      "17 0.2595909535884857\n",
      "17 0.30145594477653503\n",
      "17 0.24643079936504364\n",
      "18 0.23969300091266632\n",
      "18 0.37375524640083313\n",
      "18 0.27041903138160706\n",
      "18 0.3307032585144043\n",
      "18 0.24842000007629395\n",
      "18 0.24043548107147217\n",
      "18 0.28155869245529175\n",
      "18 0.22598229348659515\n",
      "19 0.2226920872926712\n",
      "19 0.34545740485191345\n",
      "19 0.25157567858695984\n",
      "19 0.30957239866256714\n",
      "19 0.23101484775543213\n",
      "19 0.22269313037395477\n",
      "19 0.26279187202453613\n",
      "19 0.2072378545999527\n"
     ]
    }
   ],
   "source": [
    "loss_epoch_list = []\n",
    "loss_sum = 0\n",
    "\n",
    "for epoch in range(20):\n",
    "    \n",
    "    \n",
    "    for x_batch, y_batch in loader:\n",
    "        y_pred = model(x_batch)\n",
    "        loss = torch.nn.functional.mse_loss(y_pred, y_batch)\n",
    "        \n",
    "        print(epoch, loss.item())\n",
    "        loss_list.append(loss.item())\n",
    "        loss_sum += loss.item()\n",
    "        \n",
    "        loss.backward()\n",
    "        optimizer.step()\n",
    "        optimizer.zero_grad()\n",
    "\n",
    "    loss_epoch_list.append(loss_sum/8)\n",
    "    loss_sum = 0\n",
    "    \n",
    "# 20번의 epoch 로 나누어 각 epoch 마다 8개의 batch 씩 총 160회 진행합니다.\n",
    "# 각 epoch 의 loss 를 모두 더하여 loss_sum 에 저장, loss_epoch_list 에\n",
    "# 해당 loss_sum 을 batch_size 로 나눈 값을 저장합니다."
   ]
  },
  {
   "cell_type": "markdown",
   "metadata": {},
   "source": [
    "### (1) y_pred에 따른 loss (accuracy) 변화를 화면 출력 확인 (plot)"
   ]
  },
  {
   "cell_type": "code",
   "execution_count": 7,
   "metadata": {},
   "outputs": [],
   "source": [
    "import matplotlib.pyplot as plt"
   ]
  },
  {
   "cell_type": "code",
   "execution_count": 8,
   "metadata": {},
   "outputs": [
    {
     "data": {
      "image/png": "[encoded data removed]",
      "text/plain": [
       "<Figure size 432x288 with 1 Axes>"
      ]
     },
     "metadata": {},
     "output_type": "display_data"
    }
   ],
   "source": [
    "plt.plot(loss_epoch_list)\n",
    "plt.show()\n",
    "\n",
    "# 각 epoch 의 loss 평균에 대해 저장된 loss_epoch_list 의 그래프입니다.\n",
    "# 이전까지의 학습 중에서 가장 수렵에 가까운 그래프 형태를 띄고 있습니다."
   ]
  },
  {
   "cell_type": "markdown",
   "metadata": {},
   "source": [
    "### (2) 앞 문제의 코드와 비교"
   ]
  },
  {
   "cell_type": "code",
   "execution_count": 9,
   "metadata": {},
   "outputs": [],
   "source": [
    "# 앞의 코드와 차이점은 크게 두 가지로 나누어 볼 수 있습니다.\n",
    "# 첫째는 learning rate 를 조금 더 작게 만들었다는 점과\n",
    "# 둘째는 이전까지는 하지 않았던 batch 작업을 통해 학습을 진행하였다는 점 입니다.\n",
    "# 그 결과 앞에서 나왔던 loss 에 비해 더 나은 값을 얻을 수 있었으며, 마침내\n",
    "# loss 가 0에 가깝게 수렴하는 모습을 볼 수 있었습니다. "
   ]
  }
 ],
 "metadata": {
  "kernelspec": {
   "display_name": "Python 3",
   "language": "python",
   "name": "python3"
  },
  "language_info": {
   "codemirror_mode": {
    "name": "ipython",
    "version": 3
   },
   "file_extension": ".py",
   "mimetype": "text/x-python",
   "name": "python",
   "nbconvert_exporter": "python",
   "pygments_lexer": "ipython3",
   "version": "3.6.5"
  }
 },
 "nbformat": 4,
 "nbformat_minor": 2
}
