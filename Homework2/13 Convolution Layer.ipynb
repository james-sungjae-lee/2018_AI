{
 "cells": [
  {
   "cell_type": "markdown",
   "metadata": {},
   "source": [
    "## Artificial Intelligence Assignment 2\n",
    "## No13. Convolution Layer\n",
    "## 20132651 Sungjae Lee"
   ]
  },
  {
   "cell_type": "markdown",
   "metadata": {},
   "source": [
    "# -----------------------------------"
   ]
  },
  {
   "cell_type": "markdown",
   "metadata": {},
   "source": [
    "### Convolution 연산에서 출력의 크기는\n",
    "### 입력에 대해 덧댐과 필터의 크기 및 개수, 보폭에 의해 결정됩니다.\n",
    "### _\n",
    "### 입력이 W1 * H1 * D1 이며, K개의 F * F 커널, 보폭은 S, 덧대기는 P 일 때,\n",
    "### 출력의 크기는 W2 * H2 * D2 이며 이때 W2 와 H2 와 D2 는\n",
    "### W2 = ( W1 - F + 2P ) / S + 1\n",
    "### H2 = ( H1 - F + 2P) / S + 1\n",
    "### D2 = K\n",
    "### 또한 이 때 매개변수의 수는 ( F * F * D1 ) * K + K 이다.\n",
    "### 계산은 바이어스를 고려한다 가정하고 진행하였습니다."
   ]
  },
  {
   "cell_type": "markdown",
   "metadata": {},
   "source": [
    "# -----------------------------------"
   ]
  },
  {
   "cell_type": "markdown",
   "metadata": {},
   "source": [
    "## 문제 1\n",
    "### 입력 : 32 * 32 * 3\n",
    "### 필터 : 5 * 5\n",
    "### 필터 개수 : 10개\n",
    "### 덧대기 : 2\n",
    "### 보폭 : 1"
   ]
  },
  {
   "cell_type": "markdown",
   "metadata": {},
   "source": [
    "### W2 : ( ( 32 - 5 + 2 * 2 ) / 1 ) + 1 = 32\n",
    "### H2 : ( ( 32 - 5 + 2 * 2 ) / 1 ) + 1 = 32\n",
    "### D2 : K = 10\n",
    "### 출력 : (32 * 32 * 10) = 10,240\n",
    "### 매개변수 : ( 5 * 5 * 3 ) * 10 + 10 = 760"
   ]
  },
  {
   "cell_type": "markdown",
   "metadata": {},
   "source": [
    "# -----------------------------------"
   ]
  },
  {
   "cell_type": "markdown",
   "metadata": {},
   "source": [
    "## 문제 2\n",
    "### 입력 : 32 * 32\n",
    "### 필터 : 3 * 3\n",
    "### 필터 개수 : 64개\n",
    "### 덧대기 : 1\n",
    "### 보폭 : 1\n",
    "\n"
   ]
  },
  {
   "cell_type": "markdown",
   "metadata": {},
   "source": [
    "### W2 : ( ( 32 - 3 + 2 * 1 ) / 1 ) + 1 = 32\n",
    "### H2 : ( ( 32 - 3 + 2 * 1 ) / 1 ) + 1 = 32\n",
    "### D2 : K = 64\n",
    "### 출력 : ( 32 * 32 * 64 ) = 65,536\n",
    "### 매개변수 : ( 3 * 3 * 3 ) * 64 + 64 = 1,792"
   ]
  }
 ],
 "metadata": {
  "kernelspec": {
   "display_name": "Python 3",
   "language": "python",
   "name": "python3"
  },
  "language_info": {
   "codemirror_mode": {
    "name": "ipython",
    "version": 3
   },
   "file_extension": ".py",
   "mimetype": "text/x-python",
   "name": "python",
   "nbconvert_exporter": "python",
   "pygments_lexer": "ipython3",
   "version": "3.6.5"
  }
 },
 "nbformat": 4,
 "nbformat_minor": 2
}
