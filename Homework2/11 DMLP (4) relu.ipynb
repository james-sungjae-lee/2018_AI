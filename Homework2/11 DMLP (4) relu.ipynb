{
 "cells": [
  {
   "cell_type": "markdown",
   "metadata": {},
   "source": [
    "## Artificial Intelligence Assignment 2\n",
    "## No11. DMLP (4) ReLU 함수 사용의 경우\n",
    "## 20132651 Sungjae Lee"
   ]
  },
  {
   "cell_type": "code",
   "execution_count": 1,
   "metadata": {},
   "outputs": [],
   "source": [
    "import numpy as np\n",
    "def ReLU(mat):\n",
    "    if mat < 0:\n",
    "        return np.matrix('0')\n",
    "    else:\n",
    "        return mat"
   ]
  },
  {
   "cell_type": "code",
   "execution_count": 2,
   "metadata": {},
   "outputs": [
    {
     "name": "stdout",
     "output_type": "stream",
     "text": [
      "[[1.]] [[1. 0.]]\n"
     ]
    }
   ],
   "source": [
    "x = np.matrix('1.0 0.0')\n",
    "bias = np.matrix('1.0')\n",
    "print(bias, x)"
   ]
  },
  {
   "cell_type": "code",
   "execution_count": 3,
   "metadata": {},
   "outputs": [],
   "source": [
    "x0 = np.concatenate((bias, x), axis = 1)"
   ]
  },
  {
   "cell_type": "code",
   "execution_count": 4,
   "metadata": {},
   "outputs": [],
   "source": [
    "u1_1 = np.matrix('-0.3 1.0 1.2').transpose()\n",
    "u1_2 = np.matrix('1.6 -1.0 -1.1').transpose()"
   ]
  },
  {
   "cell_type": "code",
   "execution_count": 5,
   "metadata": {},
   "outputs": [
    {
     "name": "stdout",
     "output_type": "stream",
     "text": [
      "[[0.7]] [[0.6]]\n"
     ]
    }
   ],
   "source": [
    "x1_1 = np.matmul(x0, u1_1)\n",
    "x1_2 = np.matmul(x0, u1_2)\n",
    "print(x1_1, x1_2)"
   ]
  },
  {
   "cell_type": "code",
   "execution_count": 6,
   "metadata": {},
   "outputs": [
    {
     "name": "stdout",
     "output_type": "stream",
     "text": [
      "[[1.  0.7 0.6]]\n"
     ]
    }
   ],
   "source": [
    "x1 = np.concatenate((bias, ReLU(x1_1), ReLU(x1_2)), axis = 1)\n",
    "print(x1)"
   ]
  },
  {
   "cell_type": "code",
   "execution_count": 7,
   "metadata": {},
   "outputs": [],
   "source": [
    "u2_1 = np.matrix('1.0 1.0 -1.0').transpose()\n",
    "u2_2 = np.matrix('0.7 0.5 1.0').transpose()"
   ]
  },
  {
   "cell_type": "code",
   "execution_count": 8,
   "metadata": {},
   "outputs": [
    {
     "name": "stdout",
     "output_type": "stream",
     "text": [
      "[[1.1]] [[1.65]]\n"
     ]
    }
   ],
   "source": [
    "x2_1 = np.matmul(x1, u2_1)\n",
    "x2_2 = np.matmul(x1, u2_2)\n",
    "print(x2_1, x2_2)"
   ]
  },
  {
   "cell_type": "code",
   "execution_count": 9,
   "metadata": {},
   "outputs": [
    {
     "name": "stdout",
     "output_type": "stream",
     "text": [
      "[[1.   1.1  1.65]]\n"
     ]
    }
   ],
   "source": [
    "x2 = np.concatenate((bias, ReLU(x2_1), ReLU(x2_2)), axis = 1)\n",
    "print(x2)"
   ]
  },
  {
   "cell_type": "code",
   "execution_count": 10,
   "metadata": {},
   "outputs": [],
   "source": [
    "u3_1 = np.matrix('0.5 -0.8 0.9').transpose()\n",
    "u3_2 = np.matrix('-0.1 0.3 0.4').transpose()"
   ]
  },
  {
   "cell_type": "code",
   "execution_count": 11,
   "metadata": {},
   "outputs": [
    {
     "name": "stdout",
     "output_type": "stream",
     "text": [
      "[[1.105]] [[0.89]]\n"
     ]
    }
   ],
   "source": [
    "x3_1 = np.matmul(x2, u3_1)\n",
    "x3_2 = np.matmul(x2, u3_2)\n",
    "print(x3_1, x3_2)"
   ]
  },
  {
   "cell_type": "code",
   "execution_count": 12,
   "metadata": {},
   "outputs": [
    {
     "name": "stdout",
     "output_type": "stream",
     "text": [
      "[[1.    1.105 0.89 ]]\n"
     ]
    }
   ],
   "source": [
    "x3 = np.concatenate((bias, ReLU(x3_1), ReLU(x3_2)), axis = 1)\n",
    "print(x3)"
   ]
  },
  {
   "cell_type": "code",
   "execution_count": 13,
   "metadata": {},
   "outputs": [],
   "source": [
    "u4_1 = np.matrix('1.0 0.1 -0.2').transpose()\n",
    "u4_2 = np.matrix('-0.2 1.3 -0.4').transpose()"
   ]
  },
  {
   "cell_type": "code",
   "execution_count": 14,
   "metadata": {},
   "outputs": [
    {
     "name": "stdout",
     "output_type": "stream",
     "text": [
      "[[0.9325]] [[0.8805]]\n"
     ]
    }
   ],
   "source": [
    "x4_1 = np.matmul(x3, u4_1)\n",
    "x4_2 = np.matmul(x3, u4_2)\n",
    "print(x4_1, x4_2)"
   ]
  },
  {
   "cell_type": "code",
   "execution_count": 15,
   "metadata": {},
   "outputs": [],
   "source": [
    "o = np.concatenate((ReLU(x4_1), ReLU(x4_2)))"
   ]
  },
  {
   "cell_type": "code",
   "execution_count": 16,
   "metadata": {},
   "outputs": [
    {
     "name": "stdout",
     "output_type": "stream",
     "text": [
      "0.949 1.095\n",
      "[[0.9325]\n",
      " [0.8805]]\n"
     ]
    }
   ],
   "source": [
    "print(0.949, 1.095)\n",
    "print(o)"
   ]
  },
  {
   "cell_type": "code",
   "execution_count": null,
   "metadata": {},
   "outputs": [],
   "source": []
  }
 ],
 "metadata": {
  "kernelspec": {
   "display_name": "Python 3",
   "language": "python",
   "name": "python3"
  },
  "language_info": {
   "codemirror_mode": {
    "name": "ipython",
    "version": 3
   },
   "file_extension": ".py",
   "mimetype": "text/x-python",
   "name": "python",
   "nbconvert_exporter": "python",
   "pygments_lexer": "ipython3",
   "version": "3.6.5"
  }
 },
 "nbformat": 4,
 "nbformat_minor": 2
}
