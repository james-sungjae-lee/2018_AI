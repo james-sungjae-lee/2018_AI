{
 "cells": [
  {
   "cell_type": "markdown",
   "metadata": {},
   "source": [
    "## Artificial Intelligence Assignment 2\n",
    "## No9. Image Recognition\n",
    "## 20132651 Sungjae Lee"
   ]
  },
  {
   "cell_type": "code",
   "execution_count": 1,
   "metadata": {},
   "outputs": [],
   "source": [
    "import torch\n",
    "import torch.nn as nn\n",
    "import torch.nn.functional as F\n",
    "import torch.optim as optim\n",
    "from torchvision import datasets, transforms\n",
    "from torch.autograd import Variable\n",
    "import matplotlib.pyplot as plt\n",
    "%matplotlib inline"
   ]
  },
  {
   "cell_type": "code",
   "execution_count": 2,
   "metadata": {},
   "outputs": [],
   "source": [
    "is_cuda = False\n",
    "if torch.cuda.is_available():\n",
    "    is_cuda = True"
   ]
  },
  {
   "cell_type": "code",
   "execution_count": 3,
   "metadata": {},
   "outputs": [],
   "source": [
    "transformation = transforms.Compose([transforms.ToTensor(),\n",
    "                                    transforms.Normalize((0.1307,), (0.3081,))])"
   ]
  },
  {
   "cell_type": "code",
   "execution_count": 4,
   "metadata": {},
   "outputs": [],
   "source": [
    "train_dataset = datasets.MNIST('data/', train = True, transform=transformation, download = True)\n",
    "test_dataset = datasets.MNIST('data/', train = False, transform=transformation, download = True)"
   ]
  },
  {
   "cell_type": "code",
   "execution_count": 5,
   "metadata": {},
   "outputs": [],
   "source": [
    "train_loader = torch.utils.data.DataLoader(train_dataset, batch_size = 32, shuffle = True)\n",
    "test_loader = torch.utils.data.DataLoader(test_dataset, batch_size = 32, shuffle = True)"
   ]
  },
  {
   "cell_type": "code",
   "execution_count": 6,
   "metadata": {},
   "outputs": [],
   "source": [
    "sample_data = next(iter(train_loader))"
   ]
  },
  {
   "cell_type": "code",
   "execution_count": 7,
   "metadata": {},
   "outputs": [],
   "source": [
    "def plot_img(image):\n",
    "    image = image.numpy()[0]\n",
    "    mean = 0.1307\n",
    "    std = 0.3081\n",
    "    image = ((mean * image) + std)\n",
    "    plt.imshow(image, cmap = 'gray')"
   ]
  },
  {
   "cell_type": "code",
   "execution_count": 8,
   "metadata": {},
   "outputs": [
    {
     "data": {
      "image/png": "[encoded data removed]",
      "text/plain": [
       "<Figure size 432x288 with 1 Axes>"
      ]
     },
     "metadata": {},
     "output_type": "display_data"
    }
   ],
   "source": [
    "plot_img(sample_data[0][2])"
   ]
  },
  {
   "cell_type": "code",
   "execution_count": 9,
   "metadata": {},
   "outputs": [
    {
     "data": {
      "image/png": "[encoded data removed]",
      "text/plain": [
       "<Figure size 432x288 with 1 Axes>"
      ]
     },
     "metadata": {},
     "output_type": "display_data"
    }
   ],
   "source": [
    "plot_img(sample_data[0][1])"
   ]
  },
  {
   "cell_type": "code",
   "execution_count": 10,
   "metadata": {},
   "outputs": [],
   "source": [
    "class Net(nn.Module):\n",
    "    def __init__(self):\n",
    "        super().__init__()\n",
    "        self.conv1 = nn.Conv2d(1, 10, kernel_size = 5)\n",
    "        self.conv2 = nn.Conv2d(10, 20, kernel_size = 5)\n",
    "        self.conv2_drop = nn.Dropout2d()\n",
    "        self.fc1 = nn.Linear(320, 50)\n",
    "        self.fc2 = nn.Linear(50, 10)\n",
    "        \n",
    "    def forward(self, x):\n",
    "        x = F.relu(F.max_pool2d(self.conv1(x), 2))\n",
    "        x = F.relu(F.max_pool2d(self.conv2_drop(self.conv2(x)), 2))\n",
    "        x = x.view(-1, 320)\n",
    "        x = F.relu(self.fc1(x))\n",
    "        #x = F.dropout(x, p = 0.1, training = self.training)\n",
    "        x = self.fc2(x)\n",
    "        return F.log_softmax(x, dim = 1)"
   ]
  },
  {
   "cell_type": "code",
   "execution_count": 11,
   "metadata": {},
   "outputs": [],
   "source": [
    "model = Net()\n",
    "if is_cuda:\n",
    "    model.cuda()"
   ]
  },
  {
   "cell_type": "code",
   "execution_count": 12,
   "metadata": {},
   "outputs": [],
   "source": [
    "optimizer = optim.SGD(model.parameters(), lr = 0.01)"
   ]
  },
  {
   "cell_type": "code",
   "execution_count": 13,
   "metadata": {},
   "outputs": [],
   "source": [
    "data, target = next(iter(train_loader))"
   ]
  },
  {
   "cell_type": "code",
   "execution_count": 14,
   "metadata": {},
   "outputs": [],
   "source": [
    "output = model(Variable(data))"
   ]
  },
  {
   "cell_type": "code",
   "execution_count": 15,
   "metadata": {},
   "outputs": [
    {
     "name": "stdout",
     "output_type": "stream",
     "text": [
      "torch.Size([32, 10])\n"
     ]
    }
   ],
   "source": [
    "print(output.size())"
   ]
  },
  {
   "cell_type": "code",
   "execution_count": 16,
   "metadata": {},
   "outputs": [
    {
     "name": "stdout",
     "output_type": "stream",
     "text": [
      "torch.Size([32])\n"
     ]
    }
   ],
   "source": [
    "print(target.size())"
   ]
  },
  {
   "cell_type": "code",
   "execution_count": 17,
   "metadata": {},
   "outputs": [],
   "source": [
    "def fit(epoch, model, data_loader, phase = 'training', volatile = False):\n",
    "    if phase == 'training':\n",
    "        model.train()\n",
    "    if phase == 'validation':\n",
    "        model.eval()\n",
    "        volatile = True\n",
    "    running_loss = 0.0\n",
    "    running_correct = 0\n",
    "    for batch_idx, (data, target) in enumerate(data_loader):\n",
    "        if is_cuda:\n",
    "            data, target = data.cuda(), target.cuda()\n",
    "        data, target = Variable(data, volatile), Variable(target)\n",
    "        if phase == 'training':\n",
    "            optimizer.zero_grad()\n",
    "        output = model(data)\n",
    "        loss = F.nll_loss(output, target)\n",
    "        \n",
    "        running_loss += F.nll_loss(output, target, size_average = False).data[0]\n",
    "        preds = output.data.max(dim = 1, keepdim = True)[1]\n",
    "        running_correct += preds.eq(target.data.view_as(preds)).cpu().sum()\n",
    "        if phase == 'training':\n",
    "            loss.backward()\n",
    "            optimizer.step()\n",
    "            \n",
    "    loss = running_loss / len(data_loader.dataset)\n",
    "    accuracy = 100. * running_correct / len(data_loader.dataset)\n",
    "    my_string = f'{phase} loss is {loss:{5}.{2}} and {phase} accuracy is {running_correct} / {len(data_loader.dataset)}{accuracy}'\n",
    "    print(my_string)\n",
    "    return loss, accuracy"
   ]
  },
  {
   "cell_type": "code",
   "execution_count": 18,
   "metadata": {},
   "outputs": [
    {
     "name": "stderr",
     "output_type": "stream",
     "text": [
      "/anaconda3/lib/python3.6/site-packages/torch/nn/functional.py:52: UserWarning: size_average and reduce args will be deprecated, please use reduction='sum' instead.\n",
      "  warnings.warn(warning.format(ret))\n",
      "/anaconda3/lib/python3.6/site-packages/ipykernel_launcher.py:18: UserWarning: invalid index of a 0-dim tensor. This will be an error in PyTorch 0.5. Use tensor.item() to convert a 0-dim tensor to a Python number\n"
     ]
    },
    {
     "name": "stdout",
     "output_type": "stream",
     "text": [
      "training loss is  0.56 and training accuracy is 49610 / 6000082\n",
      "validation loss is  0.15 and validation accuracy is 9580 / 1000095\n",
      "training loss is  0.19 and training accuracy is 56702 / 6000094\n",
      "validation loss is   0.1 and validation accuracy is 9693 / 1000096\n",
      "training loss is  0.15 and training accuracy is 57415 / 6000095\n",
      "validation loss is 0.073 and validation accuracy is 9776 / 1000097\n",
      "training loss is  0.13 and training accuracy is 57774 / 6000096\n",
      "validation loss is 0.067 and validation accuracy is 9790 / 1000097\n",
      "training loss is  0.11 and training accuracy is 58054 / 6000096\n",
      "validation loss is 0.054 and validation accuracy is 9827 / 1000098\n",
      "training loss is   0.1 and training accuracy is 58177 / 6000096\n",
      "validation loss is 0.052 and validation accuracy is 9827 / 1000098\n",
      "training loss is 0.093 and training accuracy is 58361 / 6000097\n",
      "validation loss is 0.049 and validation accuracy is 9848 / 1000098\n",
      "training loss is 0.087 and training accuracy is 58449 / 6000097\n",
      "validation loss is 0.041 and validation accuracy is 9869 / 1000098\n",
      "training loss is 0.082 and training accuracy is 58572 / 6000097\n",
      "validation loss is 0.041 and validation accuracy is 9875 / 1000098\n",
      "training loss is 0.079 and training accuracy is 58577 / 6000097\n",
      "validation loss is  0.04 and validation accuracy is 9878 / 1000098\n",
      "training loss is 0.074 and training accuracy is 58660 / 6000097\n",
      "validation loss is 0.037 and validation accuracy is 9892 / 1000098\n",
      "training loss is  0.07 and training accuracy is 58776 / 6000097\n",
      "validation loss is 0.037 and validation accuracy is 9878 / 1000098\n",
      "training loss is 0.067 and training accuracy is 58790 / 6000097\n",
      "validation loss is 0.038 and validation accuracy is 9874 / 1000098\n",
      "training loss is 0.066 and training accuracy is 58814 / 6000098\n",
      "validation loss is 0.035 and validation accuracy is 9879 / 1000098\n",
      "training loss is 0.064 and training accuracy is 58825 / 6000098\n",
      "validation loss is 0.033 and validation accuracy is 9892 / 1000098\n",
      "training loss is  0.06 and training accuracy is 58926 / 6000098\n",
      "validation loss is 0.031 and validation accuracy is 9890 / 1000098\n",
      "training loss is 0.059 and training accuracy is 58921 / 6000098\n",
      "validation loss is 0.034 and validation accuracy is 9897 / 1000098\n",
      "training loss is 0.056 and training accuracy is 58996 / 6000098\n",
      "validation loss is  0.03 and validation accuracy is 9904 / 1000099\n",
      "training loss is 0.054 and training accuracy is 58998 / 6000098\n",
      "validation loss is 0.031 and validation accuracy is 9900 / 1000099\n"
     ]
    }
   ],
   "source": [
    "train_losses, train_accuracy = [], []\n",
    "val_losses, val_accuracy = [], []\n",
    "for epoch in range(1, 20):\n",
    "    epoch_loss, epoch_accuracy = fit(epoch, model, train_loader, phase = 'training')\n",
    "    val_ephoch_loss, val_epoch_accuracy = fit(epoch, model, test_loader, phase = 'validation')\n",
    "    train_losses.append(epoch_loss)\n",
    "    train_accuracy.append(epoch_accuracy)\n",
    "    val_losses.append(val_ephoch_loss)\n",
    "    val_accuracy.append(val_epoch_accuracy)"
   ]
  },
  {
   "cell_type": "code",
   "execution_count": 19,
   "metadata": {},
   "outputs": [
    {
     "name": "stdout",
     "output_type": "stream",
     "text": [
      "[tensor(0.5606), tensor(0.1918), tensor(0.1501), tensor(0.1279), tensor(0.1097), tensor(0.1029), tensor(0.0932), tensor(0.0867), tensor(0.0818), tensor(0.0786), tensor(0.0743), tensor(0.0696), tensor(0.0675), tensor(0.0660), tensor(0.0638), tensor(0.0600), tensor(0.0585), tensor(0.0563), tensor(0.0544)] [tensor(82), tensor(94), tensor(95), tensor(96), tensor(96), tensor(96), tensor(97), tensor(97), tensor(97), tensor(97), tensor(97), tensor(97), tensor(97), tensor(98), tensor(98), tensor(98), tensor(98), tensor(98), tensor(98)]\n",
      "[tensor(0.1469), tensor(0.1011), tensor(0.0725), tensor(0.0671), tensor(0.0540), tensor(0.0516), tensor(0.0495), tensor(0.0414), tensor(0.0407), tensor(0.0402), tensor(0.0368), tensor(0.0366), tensor(0.0381), tensor(0.0350), tensor(0.0335), tensor(0.0312), tensor(0.0339), tensor(0.0297), tensor(0.0312)] [tensor(95), tensor(96), tensor(97), tensor(97), tensor(98), tensor(98), tensor(98), tensor(98), tensor(98), tensor(98), tensor(98), tensor(98), tensor(98), tensor(98), tensor(98), tensor(98), tensor(98), tensor(99), tensor(99)]\n"
     ]
    }
   ],
   "source": [
    "print(train_losses, train_accuracy)\n",
    "print(val_losses, val_accuracy)"
   ]
  },
  {
   "cell_type": "code",
   "execution_count": 20,
   "metadata": {},
   "outputs": [
    {
     "data": {
      "text/plain": [
       "<matplotlib.legend.Legend at 0x11fcbf518>"
      ]
     },
     "execution_count": 20,
     "metadata": {},
     "output_type": "execute_result"
    },
    {
     "data": {
      "image/png": "[encoded data removed]",
      "text/plain": [
       "<Figure size 432x288 with 1 Axes>"
      ]
     },
     "metadata": {},
     "output_type": "display_data"
    }
   ],
   "source": [
    "plt.plot(range(1, len(train_losses) + 1), train_losses, 'bo', label = 'training loss')\n",
    "plt.plot(range(1, len(val_losses) + 1), val_losses, 'r', label = 'validation loss')\n",
    "plt.legend()"
   ]
  },
  {
   "cell_type": "code",
   "execution_count": 21,
   "metadata": {},
   "outputs": [
    {
     "data": {
      "text/plain": [
       "<matplotlib.legend.Legend at 0x11e6bc438>"
      ]
     },
     "execution_count": 21,
     "metadata": {},
     "output_type": "execute_result"
    },
    {
     "data": {
      "image/png": "[encoded data removed]",
      "text/plain": [
       "<Figure size 432x288 with 1 Axes>"
      ]
     },
     "metadata": {},
     "output_type": "display_data"
    }
   ],
   "source": [
    "plt.plot(range(1, len(train_accuracy) + 1), train_accuracy, 'bo', label = 'train accuracy')\n",
    "plt.plot(range(1, len(val_accuracy) + 1), val_accuracy, 'r', label = 'val accuracy')\n",
    "plt.legend()"
   ]
  }
 ],
 "metadata": {
  "kernelspec": {
   "display_name": "Python 3",
   "language": "python",
   "name": "python3"
  },
  "language_info": {
   "codemirror_mode": {
    "name": "ipython",
    "version": 3
   },
   "file_extension": ".py",
   "mimetype": "text/x-python",
   "name": "python",
   "nbconvert_exporter": "python",
   "pygments_lexer": "ipython3",
   "version": "3.6.5"
  }
 },
 "nbformat": 4,
 "nbformat_minor": 2
}
