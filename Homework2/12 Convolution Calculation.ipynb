{
 "cells": [
  {
   "cell_type": "markdown",
   "metadata": {},
   "source": [
    "## Artificial Intelligence Assignment 2\n",
    "## No12. Convolution Calculation\n",
    "## 20132651 Sungjae Lee"
   ]
  },
  {
   "cell_type": "code",
   "execution_count": 1,
   "metadata": {},
   "outputs": [],
   "source": [
    "import numpy as np"
   ]
  },
  {
   "cell_type": "code",
   "execution_count": 5,
   "metadata": {},
   "outputs": [
    {
     "name": "stdout",
     "output_type": "stream",
     "text": [
      "[[1 1 1]\n",
      " [2 1 3]\n",
      " [0 1 0]] \n",
      "\n",
      "[[2 2 2]\n",
      " [1 0 1]\n",
      " [0 0 1]] \n",
      "\n",
      "[[0 3 0]\n",
      " [1 0 1]\n",
      " [1 0 0]] \n",
      "\n"
     ]
    }
   ],
   "source": [
    "R_matrix = np.matrix('1 1 1; 2 1 3; 0 1 0')\n",
    "G_matrix = np.matrix('2 2 2; 1 0 1; 0 0 1')\n",
    "B_matrix = np.matrix('0 3 0; 1 0 1; 1 0 0')\n",
    "print(R_matrix, '\\n')\n",
    "print(G_matrix, '\\n')\n",
    "print(B_matrix, '\\n')"
   ]
  },
  {
   "cell_type": "code",
   "execution_count": 13,
   "metadata": {},
   "outputs": [
    {
     "name": "stdout",
     "output_type": "stream",
     "text": [
      "[[0 0 0 0 0]\n",
      " [0 1 1 1 0]\n",
      " [0 2 1 3 0]\n",
      " [0 0 1 0 0]\n",
      " [0 0 0 0 0]] \n",
      "\n",
      "[[0 0 0 0 0]\n",
      " [0 2 2 2 0]\n",
      " [0 1 0 1 0]\n",
      " [0 0 0 1 0]\n",
      " [0 0 0 0 0]] \n",
      "\n",
      "[[0 0 0 0 0]\n",
      " [0 0 3 0 0]\n",
      " [0 1 0 1 0]\n",
      " [0 1 0 0 0]\n",
      " [0 0 0 0 0]] \n",
      "\n"
     ]
    }
   ],
   "source": [
    "R_pad = np.pad(R_matrix, 1, mode='constant', constant_values = 0)\n",
    "G_pad = np.pad(G_matrix, 1, mode='constant', constant_values = 0)\n",
    "B_pad = np.pad(B_matrix, 1, mode='constant', constant_values = 0)\n",
    "print(R_pad,'\\n')\n",
    "print(G_pad,'\\n')\n",
    "print(B_pad,'\\n')"
   ]
  },
  {
   "cell_type": "code",
   "execution_count": 14,
   "metadata": {},
   "outputs": [
    {
     "name": "stdout",
     "output_type": "stream",
     "text": [
      "[[0 0 0]\n",
      " [0 0 1]\n",
      " [0 1 0]] \n",
      "\n",
      "[[0 2 0]\n",
      " [0 2 0]\n",
      " [0 2 0]] \n",
      "\n",
      "[[1 0 0]\n",
      " [0 2 0]\n",
      " [0 0 1]] \n",
      "\n"
     ]
    }
   ],
   "source": [
    "Kernel_R = np.matrix('0 0 0; 0 0 1; 0 1 0')\n",
    "Kernel_G = np.matrix('0 2 0; 0 2 0; 0 2 0')\n",
    "Kernel_B = np.matrix('1 0 0; 0 2 0; 0 0 1')\n",
    "print(Kernel_R, '\\n')\n",
    "print(Kernel_G, '\\n')\n",
    "print(Kernel_B, '\\n')"
   ]
  },
  {
   "cell_type": "code",
   "execution_count": null,
   "metadata": {},
   "outputs": [],
   "source": [
    "# 아쉽게도 CNN 연산은 코드로 구현하지 못하였습니다."
   ]
  }
 ],
 "metadata": {
  "kernelspec": {
   "display_name": "Python 3",
   "language": "python",
   "name": "python3"
  },
  "language_info": {
   "codemirror_mode": {
    "name": "ipython",
    "version": 3
   },
   "file_extension": ".py",
   "mimetype": "text/x-python",
   "name": "python",
   "nbconvert_exporter": "python",
   "pygments_lexer": "ipython3",
   "version": "3.6.5"
  }
 },
 "nbformat": 4,
 "nbformat_minor": 2
}
