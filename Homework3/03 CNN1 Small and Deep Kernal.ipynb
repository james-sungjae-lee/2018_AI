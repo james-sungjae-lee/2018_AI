{
 "cells": [
  {
   "cell_type": "markdown",
   "metadata": {},
   "source": [
    "## Artificial Intelligence Assignment 3\n",
    "## No3. CNN1 Small and Deep Kernal\n",
    "## 20132651 Sungjae Lee"
   ]
  },
  {
   "cell_type": "code",
   "execution_count": 1,
   "metadata": {},
   "outputs": [
    {
     "name": "stdout",
     "output_type": "stream",
     "text": [
      "Files already downloaded and verified\n",
      "Files already downloaded and verified\n"
     ]
    }
   ],
   "source": [
    "import torch\n",
    "import torchvision\n",
    "import torchvision.transforms as transforms\n",
    "transform = transforms.Compose([transforms.ToTensor(),\n",
    "                                transforms.Normalize((0.5, 0.5, 0.5),(0.5, 0.5, 0.5))])\n",
    "trainset = torchvision.datasets.CIFAR10(root='./data',\n",
    "                                        train=True,\n",
    "                                        download=True,\n",
    "                                        transform=transform)\n",
    "trainloader = torch.utils.data.DataLoader(trainset,\n",
    "                                          batch_size=4,\n",
    "                                          shuffle=False,\n",
    "                                          num_workers=2)\n",
    "testset = torchvision.datasets.CIFAR10(root='./data',\n",
    "                                       train=False,\n",
    "                                       download=True,\n",
    "                                       transform=transform)\n",
    "testloader = torch.utils.data.DataLoader(testset,\n",
    "                                         batch_size=4,\n",
    "                                         shuffle=False,\n",
    "                                         num_workers=2)\n",
    "classes = ('plane', 'car', 'bird', 'cat', 'deer', 'dog', 'frog', 'horse', 'ship', 'truck')"
   ]
  },
  {
   "cell_type": "code",
   "execution_count": 2,
   "metadata": {},
   "outputs": [],
   "source": [
    "import torch.nn as nn\n",
    "import torch.nn.functional as F"
   ]
  },
  {
   "cell_type": "code",
   "execution_count": 3,
   "metadata": {},
   "outputs": [],
   "source": [
    "## 3 * 3 의 작은 커널을 사용하여 깊은 컨볼루션 신경망을 구현하기 위한 코드입니다.\n",
    "## conv 층을 새롭게 생성하여 각각을 구분하기 위해 서로 다른 이름을 붙였습니다.\n",
    "## 진행 과정은 다음과 같습니다.\n",
    "\n",
    "## conv1 -> conv2 -> relu -> pool -> conv3 -> conv4 -> relu -> pool\n",
    "## -> view 를 통한 크기변환 -> fc1 -> relu -> fc2 -> relu -> fc3 (10개 클래스 결과)\n",
    "## FC 라고 쓰여있던 부분은 기존과 동일하게 3개의 fully connected 층을 사용하였습니다.\n",
    "\n",
    "class Net(nn.Module):\n",
    "    def __init__(self):\n",
    "        super(Net, self).__init__()\n",
    "        self.pool = nn.MaxPool2d(2, 2)        \n",
    "        self.conv1 = nn.Conv2d(3, 32, 3)\n",
    "        self.conv2 = nn.Conv2d(32, 32, 3)\n",
    "        self.conv3 = nn.Conv2d(32, 32, 3)\n",
    "        self.conv4 = nn.Conv2d(32, 32, 3)\n",
    "        self.fc1 = nn.Linear(32 * 5 * 5, 120)\n",
    "        self.fc2 = nn.Linear(120, 84)\n",
    "        self.fc3 = nn.Linear(84, 10)\n",
    "\n",
    "## 컨볼루션 층의 쌓인 모습을 쉽게 볼 수 있도록 각각의 과정을 풀어서 작성하였습니다.\n",
    "        \n",
    "    def forward(self, x):\n",
    "        x = self.conv1(x)\n",
    "        x = self.conv2(x)\n",
    "        x = F.relu(x)\n",
    "        x = self.pool(x)\n",
    "        x = self.conv3(x)\n",
    "        x = self.conv4(x)\n",
    "        x = F.relu(x)\n",
    "        x = self.pool(x)\n",
    "        x = x.view(-1, 32 * 5 * 5)\n",
    "        x = F.relu(self.fc1(x))\n",
    "        x = F.relu(self.fc2(x))\n",
    "        x = self.fc3(x)\n",
    "        return x\n",
    "\n",
    "net = Net()"
   ]
  },
  {
   "cell_type": "code",
   "execution_count": 4,
   "metadata": {},
   "outputs": [],
   "source": [
    "import torch.optim as optim\n",
    "\n",
    "criterion = nn.CrossEntropyLoss()\n",
    "optimizer = optim.SGD(net.parameters(), lr=0.001, momentum=0.9)"
   ]
  },
  {
   "cell_type": "markdown",
   "metadata": {},
   "source": [
    "### (3) 화면 출력 확인 및 학습이 되고 있는지 서술"
   ]
  },
  {
   "cell_type": "code",
   "execution_count": 5,
   "metadata": {
    "scrolled": false
   },
   "outputs": [
    {
     "name": "stdout",
     "output_type": "stream",
     "text": [
      "[1,  1000] loss : 2.301\n",
      "[1,  2000] loss : 2.211\n",
      "[1,  3000] loss : 2.023\n",
      "[1,  4000] loss : 1.888\n",
      "[1,  5000] loss : 1.772\n",
      "[1,  6000] loss : 1.661\n",
      "[1,  7000] loss : 1.588\n",
      "[1,  8000] loss : 1.509\n",
      "[1,  9000] loss : 1.530\n",
      "[1, 10000] loss : 1.463\n",
      "[1, 11000] loss : 1.451\n",
      "[1, 12000] loss : 1.394\n",
      "[2,  1000] loss : 1.334\n",
      "[2,  2000] loss : 1.315\n",
      "[2,  3000] loss : 1.271\n",
      "[2,  4000] loss : 1.297\n",
      "[2,  5000] loss : 1.223\n",
      "[2,  6000] loss : 1.196\n",
      "[2,  7000] loss : 1.179\n",
      "[2,  8000] loss : 1.142\n",
      "[2,  9000] loss : 1.183\n",
      "[2, 10000] loss : 1.152\n",
      "[2, 11000] loss : 1.122\n",
      "[2, 12000] loss : 1.065\n",
      "Finished Training\n"
     ]
    }
   ],
   "source": [
    "for epoch in range(2):\n",
    "    running_loss = 0.0\n",
    "\n",
    "    for i, data in enumerate(trainloader, 0):\n",
    "        inputs, labels = data\n",
    "        optimizer.zero_grad()\n",
    "        outputs = net(inputs)\n",
    "        loss = criterion(outputs, labels)\n",
    "        loss.backward()\n",
    "        optimizer.step()\n",
    "        \n",
    "        running_loss += loss.item()\n",
    "        if i % 1000 == 999:\n",
    "            print('[%d, %5d] loss : %.3f' %\n",
    "                  (epoch + 1, i + 1, running_loss / 1000))\n",
    "            running_loss = 0.0\n",
    "\n",
    "print('Finished Training')\n",
    "\n",
    "## 기존의 2번 문제에서의 최종 loss 는 1.226 이었으며, \n",
    "## 모든 컨볼루션 층에 대해 32의 출력을 갖는 3 * 3 커널을 새롭게 적용한 결과\n",
    "## 새로운 CNN 에서 최종 loss 는 1.065 정도로 이전보다 성능이 좋아졌음을 확인할 수 있습니다.\n",
    "\n",
    "## 마치 VGGNet 이 더 작은 3 * 3 커널을 사용하여 컨볼루션 층을 깊게 쌓은 것처럼 시도한 것이며,\n",
    "## 그 결과 좁고 깊은 신경망이 더 학습을 잘한다는 점을 알 수 있었습니다.\n",
    "## 학습의 진행 또한 loss 의 꾸준한 감소 과정을 통해 적절하다는 점을 확인할 수 있습니다."
   ]
  },
  {
   "cell_type": "markdown",
   "metadata": {},
   "source": [
    "### (6) 화면 출력 확인 및 일반화 성능 서술"
   ]
  },
  {
   "cell_type": "code",
   "execution_count": 6,
   "metadata": {},
   "outputs": [
    {
     "name": "stdout",
     "output_type": "stream",
     "text": [
      "Accuracy of the network on the 10000 test images :60 %\n"
     ]
    }
   ],
   "source": [
    "correct = 0\n",
    "total = 0\n",
    "with torch.no_grad():\n",
    "    for data in testloader:\n",
    "        images, labels = data\n",
    "        outputs = net(images)\n",
    "        _, predicted = torch.max(outputs.data, 1)\n",
    "        total += labels.size(0)\n",
    "        correct += (predicted == labels).sum().item()\n",
    "print('Accuracy of the network on the 10000 test images :%d %%'%(100 * correct / total))\n",
    "\n",
    "## 이전의 CNN 에서는 55% 의 Accuracy 가 나타났지만, 이번에는 60% 로 5% 상향된 결과가 나타났습니다.\n",
    "## 작은 커널을 이용하여 더 깊은 층을 쌓은 결과, 조금 더 나은 일반화 성능을 얻었다 볼 수 있습니다.\n",
    "## 하지만 60%는 여전히 높은 성능이 아니기 때문에 성능을 높이기 위해서 더 많은 학습 데이터로 학습을 진행하거나\n",
    "## 배치 정규화, Adam Optimizer 등의 발전된 최적화 방안을 생각해 보아야 합니다."
   ]
  },
  {
   "cell_type": "code",
   "execution_count": 7,
   "metadata": {},
   "outputs": [],
   "source": [
    "class_correct = list(0. for i in range(10))\n",
    "class_total = list(0. for i in range(10))\n",
    "with torch.no_grad():\n",
    "    for data in testloader:\n",
    "        images, labels = data\n",
    "        outputs = net(images)\n",
    "        _, predicted = torch.max(outputs, 1)\n",
    "        c = (predicted == labels).squeeze()\n",
    "        for i in range(4):\n",
    "            label = labels[i]\n",
    "            class_correct[label] += c[i].item()\n",
    "            class_total[label] += 1"
   ]
  },
  {
   "cell_type": "markdown",
   "metadata": {},
   "source": [
    "### (7) 화면 출력 확인 및 부류별 분류기의 성능 서술"
   ]
  },
  {
   "cell_type": "code",
   "execution_count": 8,
   "metadata": {},
   "outputs": [
    {
     "name": "stdout",
     "output_type": "stream",
     "text": [
      "Accuracy of plane: 59 %\n",
      "Accuracy of   car: 80 %\n",
      "Accuracy of  bird: 33 %\n",
      "Accuracy of   cat: 57 %\n",
      "Accuracy of  deer: 64 %\n",
      "Accuracy of   dog: 26 %\n",
      "Accuracy of  frog: 55 %\n",
      "Accuracy of horse: 80 %\n",
      "Accuracy of  ship: 81 %\n",
      "Accuracy of truck: 64 %\n"
     ]
    }
   ],
   "source": [
    "## 앞에서와 마찬가지로 부류별 성능을 출력합니다.\n",
    "## 이번에 높은 성능의 부류는 Horse, Ship, Car 로 순서는 바뀌었지만 동일한 개체들입니다.\n",
    "## 이번에 낮은 성능의 부류는 Bird, Dog, Frog, Cat 입니다.\n",
    "## 이로 미루어 보아, 특정 부류에 대해서만 일정하게 분류기의 성능이 높고 낮음을 알 수 있습니다.\n",
    "\n",
    "for i in range(10):\n",
    "    print('Accuracy of %5s: %2d %%'%(classes[i], 100 * class_correct[i] / class_total[i]))"
   ]
  }
 ],
 "metadata": {
  "kernelspec": {
   "display_name": "Python 3",
   "language": "python",
   "name": "python3"
  },
  "language_info": {
   "codemirror_mode": {
    "name": "ipython",
    "version": 3
   },
   "file_extension": ".py",
   "mimetype": "text/x-python",
   "name": "python",
   "nbconvert_exporter": "python",
   "pygments_lexer": "ipython3",
   "version": "3.6.5"
  }
 },
 "nbformat": 4,
 "nbformat_minor": 2
}
