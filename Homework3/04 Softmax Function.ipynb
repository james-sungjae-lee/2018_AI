{
 "cells": [
  {
   "cell_type": "markdown",
   "metadata": {},
   "source": [
    "## Artificial Intelligence Assignment 3\n",
    "## No4. Softmax Function\n",
    "## 20132651 Sungjae Lee"
   ]
  },
  {
   "cell_type": "code",
   "execution_count": 1,
   "metadata": {},
   "outputs": [],
   "source": [
    "## torch 의 Softmax 함수를 사용하기 위해 패키지와 함수를 정의합니다.\n",
    "\n",
    "import torch\n",
    "import torch.nn as nn\n",
    "softmax = nn.Softmax()"
   ]
  },
  {
   "cell_type": "code",
   "execution_count": 2,
   "metadata": {
    "scrolled": true
   },
   "outputs": [
    {
     "name": "stdout",
     "output_type": "stream",
     "text": [
      "tensor([0.1325, 0.6563, 0.0889, 0.1223])\n",
      "tensor(1.0000)\n"
     ]
    },
    {
     "name": "stderr",
     "output_type": "stream",
     "text": [
      "/anaconda3/lib/python3.6/site-packages/ipykernel_launcher.py:5: UserWarning: Implicit dimension choice for softmax has been deprecated. Change the call to include dim=X as an argument.\n",
      "  \"\"\"\n"
     ]
    }
   ],
   "source": [
    "## 변환하고자 하는 출력값을 torch 의 tensor 형태로 만들어 input 변수에 저장합니다.\n",
    "## input 에 대하여 softmax 함수를 적용하고, 이를 output 변수에 저장합니다.\n",
    "\n",
    "input = torch.tensor([0.4, 2.0, 0.001, 0.32])\n",
    "output = softmax(input)\n",
    "\n",
    "print(output)\n",
    "print(output.sum())\n",
    "\n",
    "## 출력 결과를 확인할 수 있으며, 합이 1로 정확하게 softmax 가 적용되었음을 확인할 수 있습니다."
   ]
  }
 ],
 "metadata": {
  "kernelspec": {
   "display_name": "Python 3",
   "language": "python",
   "name": "python3"
  },
  "language_info": {
   "codemirror_mode": {
    "name": "ipython",
    "version": 3
   },
   "file_extension": ".py",
   "mimetype": "text/x-python",
   "name": "python",
   "nbconvert_exporter": "python",
   "pygments_lexer": "ipython3",
   "version": "3.6.5"
  }
 },
 "nbformat": 4,
 "nbformat_minor": 2
}
