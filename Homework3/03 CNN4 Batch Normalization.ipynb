{
 "cells": [
  {
   "cell_type": "markdown",
   "metadata": {},
   "source": [
    "## Artificial Intelligence Assignment 3\n",
    "## No3. CNN4 Batch Normalization\n",
    "## 20132651 Sungjae Lee"
   ]
  },
  {
   "cell_type": "code",
   "execution_count": 1,
   "metadata": {},
   "outputs": [
    {
     "name": "stdout",
     "output_type": "stream",
     "text": [
      "Files already downloaded and verified\n",
      "Files already downloaded and verified\n"
     ]
    }
   ],
   "source": [
    "import torch\n",
    "import torchvision\n",
    "import torchvision.transforms as transforms\n",
    "transform = transforms.Compose([transforms.ToTensor(),\n",
    "                                transforms.Normalize((0.5, 0.5, 0.5),(0.5, 0.5, 0.5))])\n",
    "trainset = torchvision.datasets.CIFAR10(root='./data',\n",
    "                                        train=True,\n",
    "                                        download=True,\n",
    "                                        transform=transform)\n",
    "trainloader = torch.utils.data.DataLoader(trainset,\n",
    "                                          batch_size=4,\n",
    "                                          shuffle=False,\n",
    "                                          num_workers=2)\n",
    "testset = torchvision.datasets.CIFAR10(root='./data',\n",
    "                                       train=False,\n",
    "                                       download=True,\n",
    "                                       transform=transform)\n",
    "testloader = torch.utils.data.DataLoader(testset,\n",
    "                                         batch_size=4,\n",
    "                                         shuffle=False,\n",
    "                                         num_workers=2)\n",
    "classes = ('plane', 'car', 'bird', 'cat', 'deer', 'dog', 'frog', 'horse', 'ship', 'truck')"
   ]
  },
  {
   "cell_type": "code",
   "execution_count": 2,
   "metadata": {},
   "outputs": [],
   "source": [
    "import torch.nn as nn\n",
    "import torch.nn.functional as F\n",
    "\n",
    "class Net(nn.Module):\n",
    "    def __init__(self):\n",
    "        super(Net, self).__init__()\n",
    "        \n",
    "        ## Batch Normalization 을 수행하기 위해 batchnorm 층을 만들어 nn.BatchNorm2d() 로 생성합니다\n",
    "        ## BatchNorm2d 는 3개 이상 차원의 입력에 대한 배치 정규화를 하기 위한 함수이며, \n",
    "        ## 이 때 매개변수 숫자는 앞에서 받은 입력의 개수를 작성해주면 됩니다. \n",
    "        \n",
    "        self.batchnorm1 = nn.BatchNorm2d(6)\n",
    "        self.batchnorm2 = nn.BatchNorm2d(16)\n",
    "        self.conv1 = nn.Conv2d(3, 6, 5)\n",
    "        self.pool = nn.MaxPool2d(2, 2)\n",
    "        self.conv2 = nn.Conv2d(6, 16, 5)\n",
    "        self.fc1 = nn.Linear(16 * 5 * 5, 120)\n",
    "        self.fc2 = nn.Linear(120, 84)\n",
    "        self.fc3 = nn.Linear(84, 10)\n",
    "\n",
    "    def forward(self, x):\n",
    "        \n",
    "        ## 각각의 컨볼루션 층마다 batchnorm 을 추가하여 작성해 줍니다\n",
    "        ## 이로써 각 컨볼루션 연산 이후에 배치 정규화를 진행할 수 있게 되었습니다.\n",
    "        ## 굳이 컨볼루션 연산 이후에 진행하는 이유는 수업에서 말씀하셨던 것처럼 relu와 같은\n",
    "        ## 활성함수 연산 이전에 배치 정규화가 이루어지는게 효과적이기 때문입니다.\n",
    "\n",
    "        x = self.pool(F.relu(self.batchnorm1(self.conv1(x))))\n",
    "        x = self.pool(F.relu(self.batchnorm2(self.conv2(x))))\n",
    "        \n",
    "        x = x.view(-1, 16 * 5 * 5)\n",
    "        x = F.relu(self.fc1(x))\n",
    "        x = F.relu(self.fc2(x))\n",
    "        x = self.fc3(x)\n",
    "        return x\n",
    "\n",
    "net = Net()"
   ]
  },
  {
   "cell_type": "code",
   "execution_count": 3,
   "metadata": {},
   "outputs": [],
   "source": [
    "import torch.optim as optim\n",
    "\n",
    "criterion = nn.CrossEntropyLoss()\n",
    "optimizer = optim.SGD(net.parameters(), lr=0.001, momentum=0.9)"
   ]
  },
  {
   "cell_type": "markdown",
   "metadata": {},
   "source": [
    "### (3) 화면 출력 확인 및 학습이 되고 있는지 서술"
   ]
  },
  {
   "cell_type": "code",
   "execution_count": 4,
   "metadata": {
    "scrolled": false
   },
   "outputs": [
    {
     "name": "stdout",
     "output_type": "stream",
     "text": [
      "[1,  1000] loss : 2.224\n",
      "[1,  2000] loss : 1.921\n",
      "[1,  3000] loss : 1.769\n",
      "[1,  4000] loss : 1.726\n",
      "[1,  5000] loss : 1.643\n",
      "[1,  6000] loss : 1.586\n",
      "[1,  7000] loss : 1.573\n",
      "[1,  8000] loss : 1.531\n",
      "[1,  9000] loss : 1.574\n",
      "[1, 10000] loss : 1.522\n",
      "[1, 11000] loss : 1.519\n",
      "[1, 12000] loss : 1.468\n",
      "[2,  1000] loss : 1.426\n",
      "[2,  2000] loss : 1.432\n",
      "[2,  3000] loss : 1.398\n",
      "[2,  4000] loss : 1.431\n",
      "[2,  5000] loss : 1.385\n",
      "[2,  6000] loss : 1.352\n",
      "[2,  7000] loss : 1.350\n",
      "[2,  8000] loss : 1.311\n",
      "[2,  9000] loss : 1.379\n",
      "[2, 10000] loss : 1.325\n",
      "[2, 11000] loss : 1.328\n",
      "[2, 12000] loss : 1.282\n",
      "Finished Training\n"
     ]
    }
   ],
   "source": [
    "for epoch in range(2):\n",
    "    running_loss = 0.0\n",
    "\n",
    "    for i, data in enumerate(trainloader, 0):\n",
    "        inputs, labels = data\n",
    "        optimizer.zero_grad()\n",
    "        outputs = net(inputs)\n",
    "        loss = criterion(outputs, labels)\n",
    "        loss.backward()\n",
    "        optimizer.step()\n",
    "        \n",
    "        running_loss += loss.item()\n",
    "        if i % 1000 == 999:\n",
    "            print('[%d, %5d] loss : %.3f' %\n",
    "                  (epoch + 1, i + 1, running_loss / 1000))\n",
    "            running_loss = 0.0\n",
    "\n",
    "print('Finished Training')\n",
    "\n",
    "## 기존의 최저 loss인 1.226에 비하여 Batch Norm 을 적용한 코드에서는 1.282 의 loss 가 나왔습니다.\n",
    "## loss 가 늘어났다고 해서 성능이 되려 나빠졌다고 보기는 힘들지만, 성능의 향상이 없다고 보기에는 충분합니다.\n",
    "## 다만 초기의 loss 감소율은 기존에 비해 꽤 빠른 편이라고 생각할 수 있겠습니다."
   ]
  },
  {
   "cell_type": "markdown",
   "metadata": {},
   "source": [
    "### (6) 화면 출력 확인 및 일반화 성능 서술"
   ]
  },
  {
   "cell_type": "code",
   "execution_count": 5,
   "metadata": {},
   "outputs": [
    {
     "name": "stdout",
     "output_type": "stream",
     "text": [
      "Accuracy of the network on the 10000 test images :53 %\n"
     ]
    }
   ],
   "source": [
    "correct = 0\n",
    "total = 0\n",
    "with torch.no_grad():\n",
    "    for data in testloader:\n",
    "        images, labels = data\n",
    "        outputs = net(images)\n",
    "        _, predicted = torch.max(outputs.data, 1)\n",
    "        total += labels.size(0)\n",
    "        correct += (predicted == labels).sum().item()\n",
    "print('Accuracy of the network on the 10000 test images :%d %%'%(100 * correct / total))\n",
    "\n",
    "## Accuracy 는 오히려 기존의 55% 에서 2% 감소한 53%의 결과를 보여줍니다.\n",
    "## 이로 미루어 보아 성능에 큰 도움이 되지는 않는 것 같습니다."
   ]
  },
  {
   "cell_type": "code",
   "execution_count": 6,
   "metadata": {},
   "outputs": [],
   "source": [
    "class_correct = list(0. for i in range(10))\n",
    "class_total = list(0. for i in range(10))\n",
    "with torch.no_grad():\n",
    "    for data in testloader:\n",
    "        images, labels = data\n",
    "        outputs = net(images)\n",
    "        _, predicted = torch.max(outputs, 1)\n",
    "        c = (predicted == labels).squeeze()\n",
    "        for i in range(4):\n",
    "            label = labels[i]\n",
    "            class_correct[label] += c[i].item()\n",
    "            class_total[label] += 1"
   ]
  },
  {
   "cell_type": "markdown",
   "metadata": {},
   "source": [
    "### (7) 화면 출력 확인 및 부류별 분류기의 성능 서술"
   ]
  },
  {
   "cell_type": "code",
   "execution_count": 7,
   "metadata": {},
   "outputs": [
    {
     "name": "stdout",
     "output_type": "stream",
     "text": [
      "Accuracy of plane: 55 %\n",
      "Accuracy of   car: 72 %\n",
      "Accuracy of  bird: 34 %\n",
      "Accuracy of   cat: 54 %\n",
      "Accuracy of  deer: 43 %\n",
      "Accuracy of   dog: 26 %\n",
      "Accuracy of  frog: 55 %\n",
      "Accuracy of horse: 67 %\n",
      "Accuracy of  ship: 69 %\n",
      "Accuracy of truck: 58 %\n"
     ]
    }
   ],
   "source": [
    "## 이전과는 약간 다르게 deer 개체의 분류에서 상당히 낮은 결과값을 내었습니다.\n",
    "## 그 외에는 car, horse, ship 이 여전히 높은 분류성능을 가지고 진행됩니다.\n",
    "## 전체적인 Accuracy 는 크게 좋아지거나 나빠지지 않고 일정한 상태를 유지하고 있습니다.\n",
    "## 분류기의 성능이 좋지 않은편이라고 할 수 있겠습니다.\n",
    "\n",
    "for i in range(10):\n",
    "    print('Accuracy of %5s: %2d %%'%(classes[i], 100 * class_correct[i] / class_total[i]))"
   ]
  }
 ],
 "metadata": {
  "kernelspec": {
   "display_name": "Python 3",
   "language": "python",
   "name": "python3"
  },
  "language_info": {
   "codemirror_mode": {
    "name": "ipython",
    "version": 3
   },
   "file_extension": ".py",
   "mimetype": "text/x-python",
   "name": "python",
   "nbconvert_exporter": "python",
   "pygments_lexer": "ipython3",
   "version": "3.6.5"
  }
 },
 "nbformat": 4,
 "nbformat_minor": 2
}
