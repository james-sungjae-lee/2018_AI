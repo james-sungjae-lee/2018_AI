{
 "cells": [
  {
   "cell_type": "markdown",
   "metadata": {},
   "source": [
    "## Artificial Intelligence Assignment 3\n",
    "## No5. Softmax Loss Calculate\n",
    "## 20132651 Sungjae Lee"
   ]
  },
  {
   "cell_type": "code",
   "execution_count": 1,
   "metadata": {},
   "outputs": [],
   "source": [
    "## log 연산을 위한 math 패키지를 불러옵니다.\n",
    "\n",
    "import math"
   ]
  },
  {
   "cell_type": "code",
   "execution_count": 2,
   "metadata": {},
   "outputs": [],
   "source": [
    "o = [0.001, 0.9, 0.001, 0.098]\n",
    "y = [0, 0, 0, 1]"
   ]
  },
  {
   "cell_type": "code",
   "execution_count": 3,
   "metadata": {},
   "outputs": [
    {
     "name": "stdout",
     "output_type": "stream",
     "text": [
      "mse :  0.811803\n"
     ]
    }
   ],
   "source": [
    "## 평균제곱 오차의 계산\n",
    "\n",
    "sum = ((0.001 - 0)**2 + (0.9 - 0)**2 + (0.001 - 0)**2 + (0.098 - 1)**2)\n",
    "mse = sum / 2\n",
    "print('mse : ', mse)"
   ]
  },
  {
   "cell_type": "code",
   "execution_count": 4,
   "metadata": {},
   "outputs": [
    {
     "name": "stdout",
     "output_type": "stream",
     "text": [
      "e1 =  0.0014434168696687186\n",
      "e2 =  3.3219280948873626\n",
      "e3 =  0.0014434168696687186\n",
      "e4 =  3.3510744405468786\n",
      "cross entropy :  6.675889369173579\n"
     ]
    }
   ],
   "source": [
    "## 교차 엔트로피의 계산\n",
    "\n",
    "e1 = -(0 * math.log(0.001, 2) + (1-0) * math.log(1-0.001, 2))\n",
    "e2 = -(0 * math.log(0.9, 2) + (1-0) * math.log(1-0.9, 2))\n",
    "e3 = -(0 * math.log(0.001, 2) + (1-0) * math.log(1-0.001, 2))\n",
    "e4 = -(1 * math.log(0.098, 2) + (1-1) * math.log(1-0.098, 2))\n",
    "print('e1 = ', e1)\n",
    "print('e2 = ', e2)\n",
    "print('e3 = ', e3)\n",
    "print('e4 = ', e4)\n",
    "print('cross entropy : ', e1 + e2 + e3 + e4)"
   ]
  },
  {
   "cell_type": "code",
   "execution_count": 5,
   "metadata": {},
   "outputs": [
    {
     "name": "stdout",
     "output_type": "stream",
     "text": [
      "log likelihood :  3.3510744405468786\n"
     ]
    }
   ],
   "source": [
    "## 로그우도의 계산\n",
    "## o_y 는 샘플의 레이블에 해당하는 실제 값이므로, 이는 4번째 값인 0.098 이다\n",
    "## o_y 에 대하여 -log_2 (o_y) 를 출력하면 다음과 같다.\n",
    "\n",
    "print('log likelihood : ', - math.log(0.098, 2))"
   ]
  }
 ],
 "metadata": {
  "kernelspec": {
   "display_name": "Python 3",
   "language": "python",
   "name": "python3"
  },
  "language_info": {
   "codemirror_mode": {
    "name": "ipython",
    "version": 3
   },
   "file_extension": ".py",
   "mimetype": "text/x-python",
   "name": "python",
   "nbconvert_exporter": "python",
   "pygments_lexer": "ipython3",
   "version": "3.6.5"
  }
 },
 "nbformat": 4,
 "nbformat_minor": 2
}
